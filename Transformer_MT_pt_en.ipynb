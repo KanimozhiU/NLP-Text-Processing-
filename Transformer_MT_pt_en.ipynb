{
 "cells": [
  {
   "cell_type": "code",
   "execution_count": null,
   "metadata": {
    "colab": {
     "base_uri": "https://localhost:8080/",
     "height": 444
    },
    "id": "ke4O5dW7oC1x",
    "outputId": "75e5931b-7465-46d4-bccc-b74e19483876"
   },
   "outputs": [
    {
     "name": "stdout",
     "output_type": "stream",
     "text": [
      "Requirement already up-to-date: transformers in /usr/local/lib/python3.6/dist-packages (3.0.2)\n",
      "Requirement already satisfied, skipping upgrade: sentencepiece!=0.1.92 in /usr/local/lib/python3.6/dist-packages (from transformers) (0.1.91)\n",
      "Requirement already satisfied, skipping upgrade: regex!=2019.12.17 in /usr/local/lib/python3.6/dist-packages (from transformers) (2019.12.20)\n",
      "Requirement already satisfied, skipping upgrade: tokenizers==0.8.1.rc1 in /usr/local/lib/python3.6/dist-packages (from transformers) (0.8.1rc1)\n",
      "Requirement already satisfied, skipping upgrade: requests in /usr/local/lib/python3.6/dist-packages (from transformers) (2.23.0)\n",
      "Requirement already satisfied, skipping upgrade: packaging in /usr/local/lib/python3.6/dist-packages (from transformers) (20.4)\n",
      "Requirement already satisfied, skipping upgrade: sacremoses in /usr/local/lib/python3.6/dist-packages (from transformers) (0.0.43)\n",
      "Requirement already satisfied, skipping upgrade: dataclasses; python_version < \"3.7\" in /usr/local/lib/python3.6/dist-packages (from transformers) (0.7)\n",
      "Requirement already satisfied, skipping upgrade: filelock in /usr/local/lib/python3.6/dist-packages (from transformers) (3.0.12)\n",
      "Requirement already satisfied, skipping upgrade: tqdm>=4.27 in /usr/local/lib/python3.6/dist-packages (from transformers) (4.41.1)\n",
      "Requirement already satisfied, skipping upgrade: numpy in /usr/local/lib/python3.6/dist-packages (from transformers) (1.18.5)\n",
      "Requirement already satisfied, skipping upgrade: chardet<4,>=3.0.2 in /usr/local/lib/python3.6/dist-packages (from requests->transformers) (3.0.4)\n",
      "Requirement already satisfied, skipping upgrade: urllib3!=1.25.0,!=1.25.1,<1.26,>=1.21.1 in /usr/local/lib/python3.6/dist-packages (from requests->transformers) (1.24.3)\n",
      "Requirement already satisfied, skipping upgrade: certifi>=2017.4.17 in /usr/local/lib/python3.6/dist-packages (from requests->transformers) (2020.6.20)\n",
      "Requirement already satisfied, skipping upgrade: idna<3,>=2.5 in /usr/local/lib/python3.6/dist-packages (from requests->transformers) (2.10)\n",
      "Requirement already satisfied, skipping upgrade: pyparsing>=2.0.2 in /usr/local/lib/python3.6/dist-packages (from packaging->transformers) (2.4.7)\n",
      "Requirement already satisfied, skipping upgrade: six in /usr/local/lib/python3.6/dist-packages (from packaging->transformers) (1.12.0)\n",
      "Requirement already satisfied, skipping upgrade: click in /usr/local/lib/python3.6/dist-packages (from sacremoses->transformers) (7.1.2)\n",
      "Requirement already satisfied, skipping upgrade: joblib in /usr/local/lib/python3.6/dist-packages (from sacremoses->transformers) (0.16.0)\n",
      "Requirement already satisfied: mosestokenizer in /usr/local/lib/python3.6/dist-packages (1.1.0)\n",
      "Requirement already satisfied: uctools in /usr/local/lib/python3.6/dist-packages (from mosestokenizer) (1.3.0)\n",
      "Requirement already satisfied: toolwrapper in /usr/local/lib/python3.6/dist-packages (from mosestokenizer) (2.1.0)\n",
      "Requirement already satisfied: docopt in /usr/local/lib/python3.6/dist-packages (from mosestokenizer) (0.6.2)\n",
      "Requirement already satisfied: openfile in /usr/local/lib/python3.6/dist-packages (from mosestokenizer) (0.0.7)\n"
     ]
    }
   ],
   "source": [
    "!pip install transformers --upgrade\n",
    "!pip install mosestokenizer"
   ]
  },
  {
   "cell_type": "code",
   "execution_count": null,
   "metadata": {
    "id": "JsADt2bNoMF0"
   },
   "outputs": [],
   "source": [
    "import os\n",
    "import pandas as pd\n",
    "import datetime\n",
    "from transformers import MarianMTModel, MarianTokenizer\n",
    "from typing import List\n",
    "from google.colab import files\n",
    "from google.colab import drive"
   ]
  },
  {
   "cell_type": "code",
   "execution_count": null,
   "metadata": {
    "colab": {
     "base_uri": "https://localhost:8080/",
     "height": 35
    },
    "id": "nExangaXpJof",
    "outputId": "f2212f05-954b-4603-b17f-2d2633056d7b"
   },
   "outputs": [
    {
     "name": "stdout",
     "output_type": "stream",
     "text": [
      "Mounted at /content/gdrive\n"
     ]
    }
   ],
   "source": [
    "drive.mount('/content/gdrive', force_remount=True)\n",
    "root_dir = \"/content/gdrive/My Drive/\""
   ]
  },
  {
   "cell_type": "code",
   "execution_count": null,
   "metadata": {
    "colab": {
     "base_uri": "https://localhost:8080/",
     "height": 35
    },
    "id": "Y9cR4j0NpM-r",
    "outputId": "74214600-b496-4b6a-eb1f-eda53d99a78e"
   },
   "outputs": [
    {
     "name": "stdout",
     "output_type": "stream",
     "text": [
      "Number of reviews in file: 12\n"
     ]
    }
   ],
   "source": [
    "Cafe_Coco_Bamboo = pd.read_csv('/content/gdrive/My Drive/Colab Notebooks/Cafe_Coco_Bamboo.csv', sep=\",\")\n",
    "print('Number of reviews in file: %d' % len(Cafe_Coco_Bamboo))"
   ]
  },
  {
   "cell_type": "code",
   "execution_count": null,
   "metadata": {
    "colab": {
     "base_uri": "https://localhost:8080/",
     "height": 35
    },
    "id": "KOacjG33JgGn",
    "outputId": "eb60ba48-e107-4aa4-ed53-ac897d629d3d"
   },
   "outputs": [
    {
     "data": {
      "text/plain": [
       "(12, 4)"
      ]
     },
     "execution_count": 31,
     "metadata": {
      "tags": []
     },
     "output_type": "execute_result"
    }
   ],
   "source": [
    "#sao_paulo.shape\n",
    "#sao_paulo = sao_paulo.reset_index(drop = True)\n",
    "Cafe_Coco_Bamboo.shape"
   ]
  },
  {
   "cell_type": "code",
   "execution_count": null,
   "metadata": {
    "id": "mx6PDoBTJiJw"
   },
   "outputs": [],
   "source": [
    "#sao_paulo['strlen'] = sao_paulo['text'].apply(lambda x : len(x))\n",
    "Cafe_Coco_Bamboo['strlen'] = Cafe_Coco_Bamboo['text'].apply(lambda x : len(x))"
   ]
  },
  {
   "cell_type": "code",
   "execution_count": null,
   "metadata": {
    "colab": {
     "base_uri": "https://localhost:8080/",
     "height": 177
    },
    "id": "yeamtPf7JtXo",
    "outputId": "2b5203b4-b93b-4421-f8a6-7fc1a122c717"
   },
   "outputs": [
    {
     "data": {
      "text/plain": [
       "count     12.000000\n",
       "mean     225.250000\n",
       "std      100.715734\n",
       "min      112.000000\n",
       "25%      159.750000\n",
       "50%      196.500000\n",
       "75%      273.500000\n",
       "max      465.000000\n",
       "Name: strlen, dtype: float64"
      ]
     },
     "execution_count": 33,
     "metadata": {
      "tags": []
     },
     "output_type": "execute_result"
    }
   ],
   "source": [
    "#sao_paulo['strlen'].describe()\n",
    "Cafe_Coco_Bamboo['strlen'].describe()"
   ]
  },
  {
   "cell_type": "code",
   "execution_count": null,
   "metadata": {
    "id": "YCBAVLVOJxBm"
   },
   "outputs": [],
   "source": [
    "masterlist =  list(Cafe_Coco_Bamboo['text'])\n",
    "#sao_paulo = sao_paulo[sao_paulo['strlen'] <= 500 ].reset_index(drop = True)"
   ]
  },
  {
   "cell_type": "code",
   "execution_count": null,
   "metadata": {
    "colab": {
     "base_uri": "https://localhost:8080/",
     "height": 35
    },
    "id": "sub144r3KNA6",
    "outputId": "2f68d87f-cc53-4a6f-e108-536f7cf73f42"
   },
   "outputs": [
    {
     "data": {
      "text/plain": [
       "12"
      ]
     },
     "execution_count": 36,
     "metadata": {
      "tags": []
     },
     "output_type": "execute_result"
    }
   ],
   "source": [
    "len(masterlist)"
   ]
  },
  {
   "cell_type": "code",
   "execution_count": null,
   "metadata": {
    "id": "XbyrMFwmK2cF"
   },
   "outputs": [],
   "source": [
    "#submasterlist = masterlist[500:2000]\n",
    "submasterlist = masterlist"
   ]
  },
  {
   "cell_type": "code",
   "execution_count": null,
   "metadata": {
    "id": "BMN6phWCn2bK"
   },
   "outputs": [],
   "source": [
    "src = 'ROMANCE'  # source language\n",
    "trg = 'en'  # target language\n",
    "mname = f'Helsinki-NLP/opus-mt-{src}-{trg}'"
   ]
  },
  {
   "cell_type": "code",
   "execution_count": null,
   "metadata": {
    "colab": {
     "base_uri": "https://localhost:8080/",
     "height": 35
    },
    "id": "eIoDZOzVn8bU",
    "outputId": "6783c83b-b41b-415e-9ead-59117ca38cd7"
   },
   "outputs": [
    {
     "name": "stdout",
     "output_type": "stream",
     "text": [
      "2020-07-16 05:01:17.482567\n"
     ]
    }
   ],
   "source": [
    "print(datetime.datetime.now())\n",
    "model = MarianMTModel.from_pretrained(mname)\n",
    "tok = MarianTokenizer.from_pretrained(mname)"
   ]
  },
  {
   "cell_type": "code",
   "execution_count": null,
   "metadata": {
    "colab": {
     "base_uri": "https://localhost:8080/",
     "height": 286
    },
    "id": "PO_QdIGnMzV5",
    "outputId": "81135938-13b3-48e0-a845-aa05df870700"
   },
   "outputs": [
    {
     "name": "stdout",
     "output_type": "stream",
     "text": [
      "2020-07-16 05:01:24.167357\n",
      "['Very nice place and very good service. The ice creams are a delight, you choose an apple pie or apple picker with ice cream,...']\n",
      "[\"It was happening like those who don't want anything and what a big surprise. I had previously visited for a coffee... but this time the surprise was very good. Besides the desserts that are available in Coco Bambu... now they managed to create something wonderful. Frozen and Hot Oven Coke. People.... it's worth proof and worth every calorie. And the best... super affordable price. I'll definitely come back to try others... but this really is one of the best desserts.\"]\n",
      "[\"The milk pudding is fantastic, but as I arrived almost on closing hours, the attendants were in a bit of a hurry in the service and unattractive, but it's understandable.\"]\n",
      "['We ordered a rosé foam and the main entrance to the house. We left the main dish for the Gold, responsible for the service, suggest. What to say?']\n",
      "[\"After a delicious meal at Coco Bambu, it is worth spending at the Coco Bambu Café. It has delicious sweet tapiocas. I love Brigadier's and cheese with guavada. Only the service that is below expected. Another detail: every time I went, they had no change to give me back! Remember that not everyone pays with Credit/Debit Card!\"]\n",
      "['Shrimp tapioca and wonderful sun meat hiding! Divine desserts! We were very well attended by Cristina and other employees!']\n",
      "['Located in an environment outside the restaurant with the same name (it is located on the ground floor) has a different atmosphere and menu from the usual coffees. Among the various sweets, which can be taken whole and serve up to 12 people, stand out the cocade. Prices are lower than other sweets.']\n",
      "['Excellent espresso with several options. I like coffee very much with &quot;Quador&quot;, comes a hot water grinder for yourself to pass your coffee on time to your own taste. I am frequenter assiduous!']\n",
      "['Excellent food for a quick meal. Special recommendation for tapiocas and shrimp pan. Desserts are good, but many large, ideal for sharing and, could contain a little less sugar.']\n",
      "[\"I didn't even know this coffee, half out of the way at the mall, but the service is excellent and light options for an afternoon coffee and out-of-time meals are great. I like their ice cream.\"]\n",
      "['I confess that I always wondered how they achieved such quality in the fish and seafood with a very interesting value and a giant portion, until the manager tells us the story and is also own production....']\n",
      "['all very good, service, coffee well hot and the attendants are a love. Clean and well located environment.']\n",
      "2020-07-16 05:02:07.268362\n"
     ]
    }
   ],
   "source": [
    "print(datetime.datetime.now())\n",
    "resultlist = []\n",
    "for item in submasterlist:\n",
    "  batch = tok.prepare_translation_batch(src_texts=[item])  # don't need tgt_text for inference\n",
    "  gen = model.generate(**batch)  # for forward pass: model(**batch)\n",
    "  words: List[str] = tok.batch_decode(gen, skip_special_tokens=True)  # returns \"translated text\"\n",
    "  print(words)\n",
    "  resultlist.append(words)\n",
    "print(datetime.datetime.now())"
   ]
  },
  {
   "cell_type": "code",
   "execution_count": null,
   "metadata": {
    "colab": {
     "base_uri": "https://localhost:8080/",
     "height": 250
    },
    "id": "ezLOC8cDMx4O",
    "outputId": "f40b8829-d6aa-4090-9cfe-55e3c3f72aef"
   },
   "outputs": [
    {
     "data": {
      "text/plain": [
       "[['Very nice place and very good service. The ice creams are a delight, you choose an apple pie or apple picker with ice cream,...'],\n",
       " [\"It was happening like those who don't want anything and what a big surprise. I had previously visited for a coffee... but this time the surprise was very good. Besides the desserts that are available in Coco Bambu... now they managed to create something wonderful. Frozen and Hot Oven Coke. People.... it's worth proof and worth every calorie. And the best... super affordable price. I'll definitely come back to try others... but this really is one of the best desserts.\"],\n",
       " [\"The milk pudding is fantastic, but as I arrived almost on closing hours, the attendants were in a bit of a hurry in the service and unattractive, but it's understandable.\"],\n",
       " ['We ordered a rosé foam and the main entrance to the house. We left the main dish for the Gold, responsible for the service, suggest. What to say?'],\n",
       " [\"After a delicious meal at Coco Bambu, it is worth spending at the Coco Bambu Café. It has delicious sweet tapiocas. I love Brigadier's and cheese with guavada. Only the service that is below expected. Another detail: every time I went, they had no change to give me back! Remember that not everyone pays with Credit/Debit Card!\"],\n",
       " ['Shrimp tapioca and wonderful sun meat hiding! Divine desserts! We were very well attended by Cristina and other employees!'],\n",
       " ['Located in an environment outside the restaurant with the same name (it is located on the ground floor) has a different atmosphere and menu from the usual coffees. Among the various sweets, which can be taken whole and serve up to 12 people, stand out the cocade. Prices are lower than other sweets.'],\n",
       " ['Excellent espresso with several options. I like coffee very much with &quot;Quador&quot;, comes a hot water grinder for yourself to pass your coffee on time to your own taste. I am frequenter assiduous!'],\n",
       " ['Excellent food for a quick meal. Special recommendation for tapiocas and shrimp pan. Desserts are good, but many large, ideal for sharing and, could contain a little less sugar.'],\n",
       " [\"I didn't even know this coffee, half out of the way at the mall, but the service is excellent and light options for an afternoon coffee and out-of-time meals are great. I like their ice cream.\"],\n",
       " ['I confess that I always wondered how they achieved such quality in the fish and seafood with a very interesting value and a giant portion, until the manager tells us the story and is also own production....'],\n",
       " ['all very good, service, coffee well hot and the attendants are a love. Clean and well located environment.']]"
      ]
     },
     "execution_count": 41,
     "metadata": {
      "tags": []
     },
     "output_type": "execute_result"
    }
   ],
   "source": [
    "resultlist"
   ]
  }
 ],
 "metadata": {
  "accelerator": "TPU",
  "colab": {
   "collapsed_sections": [],
   "name": "Transformer-MT_pt_en.ipynb",
   "provenance": []
  },
  "kernelspec": {
   "display_name": "Python 3",
   "language": "python",
   "name": "python3"
  },
  "language_info": {
   "codemirror_mode": {
    "name": "ipython",
    "version": 3
   },
   "file_extension": ".py",
   "mimetype": "text/x-python",
   "name": "python",
   "nbconvert_exporter": "python",
   "pygments_lexer": "ipython3",
   "version": "3.8.8"
  }
 },
 "nbformat": 4,
 "nbformat_minor": 4
}
