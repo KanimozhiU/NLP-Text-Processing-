{
 "cells": [
  {
   "cell_type": "code",
   "execution_count": null,
   "metadata": {
    "colab": {},
    "colab_type": "code",
    "id": "xDLi7UTBNmYi"
   },
   "outputs": [],
   "source": [
    "import pandas as pd\n",
    "import numpy as np\n",
    "from zipfile import ZipFile\n",
    "from pathlib import Path\n",
    "import matplotlib.pyplot as plt\n",
    "import os\n",
    "import json\n",
    "import gzip\n",
    "from urllib.request import urlopen"
   ]
  },
  {
   "cell_type": "code",
   "execution_count": null,
   "metadata": {
    "colab": {
     "base_uri": "https://localhost:8080/",
     "height": 208
    },
    "colab_type": "code",
    "id": "pZndMShNNqlw",
    "outputId": "1a4a9849-083b-4d5e-ebf3-1ff26f8a76a3"
   },
   "outputs": [
    {
     "name": "stdout",
     "output_type": "stream",
     "text": [
      "--2020-07-16 12:54:03--  http://snap.stanford.edu/data/amazon/productGraph/categoryFiles/reviews_Cell_Phones_and_Accessories_5.json.gz\n",
      "Resolving snap.stanford.edu (snap.stanford.edu)... 171.64.75.80\n",
      "Connecting to snap.stanford.edu (snap.stanford.edu)|171.64.75.80|:80... connected.\n",
      "HTTP request sent, awaiting response... 200 OK\n",
      "Length: 45409631 (43M) [application/x-gzip]\n",
      "Saving to: ‘reviews_Cell_Phones_and_Accessories_5.json.gz’\n",
      "\n",
      "reviews_Cell_Phones 100%[===================>]  43.31M  7.48MB/s    in 7.8s    \n",
      "\n",
      "2020-07-16 12:54:11 (5.58 MB/s) - ‘reviews_Cell_Phones_and_Accessories_5.json.gz’ saved [45409631/45409631]\n",
      "\n"
     ]
    }
   ],
   "source": [
    "!wget http://snap.stanford.edu/data/amazon/productGraph/categoryFiles/reviews_Cell_Phones_and_Accessories_5.json.gz"
   ]
  },
  {
   "cell_type": "code",
   "execution_count": null,
   "metadata": {
    "colab": {
     "base_uri": "https://localhost:8080/",
     "height": 72
    },
    "colab_type": "code",
    "id": "rYvMeU_CNsb7",
    "outputId": "af516012-371f-4a69-f6a5-dcf998db79b4"
   },
   "outputs": [
    {
     "name": "stdout",
     "output_type": "stream",
     "text": [
      "194439\n",
      "{'reviewerID': 'A30TL5EWN6DFXT', 'asin': '120401325X', 'reviewerName': 'christina', 'helpful': [0, 0], 'reviewText': \"They look good and stick good! I just don't like the rounded shape because I was always bumping it and Siri kept popping up and it was irritating. I just won't buy a product like this again\", 'overall': 4.0, 'summary': 'Looks Good', 'unixReviewTime': 1400630400, 'reviewTime': '05 21, 2014'}\n"
     ]
    }
   ],
   "source": [
    "data = []\n",
    "with gzip.open('reviews_Cell_Phones_and_Accessories_5.json.gz') as f:\n",
    "    for l in f:\n",
    "        data.append(json.loads(l.strip()))\n",
    "print(len(data))\n",
    "print(data[0])"
   ]
  },
  {
   "cell_type": "code",
   "execution_count": null,
   "metadata": {
    "colab": {
     "base_uri": "https://localhost:8080/",
     "height": 121
    },
    "colab_type": "code",
    "id": "2lm_IUNia4Di",
    "outputId": "b59a6e24-c1a7-4e3c-bc29-85ba0b8ac001"
   },
   "outputs": [
    {
     "data": {
      "text/plain": [
       "B005SUHPO6    837\n",
       "B0042FV2SI    694\n",
       "B008OHNZI0    657\n",
       "B009RXU59C    636\n",
       "B000S5Q9CA    628\n",
       "Name: asin, dtype: int64"
      ]
     },
     "execution_count": 7,
     "metadata": {
      "tags": []
     },
     "output_type": "execute_result"
    }
   ],
   "source": [
    "reviews = pd.DataFrame.from_dict(data)\n",
    "reviews['asin'].value_counts()[:5].sort_values(ascending=False)"
   ]
  },
  {
   "cell_type": "code",
   "execution_count": null,
   "metadata": {
    "colab": {},
    "colab_type": "code",
    "id": "y43rCBneNusn"
   },
   "outputs": [],
   "source": [
    "reviews = reviews[reviews['asin'] == 'B008OHNZI0']\n",
    "review = reviews[['reviewerID','asin','reviewText']]"
   ]
  },
  {
   "cell_type": "code",
   "execution_count": null,
   "metadata": {
    "colab": {
     "base_uri": "https://localhost:8080/",
     "height": 206
    },
    "colab_type": "code",
    "id": "gcpk7TDON0wg",
    "outputId": "27201abd-1ed0-45b9-9fb9-4a95a2f8ded5"
   },
   "outputs": [
    {
     "data": {
      "text/html": [
       "<div>\n",
       "<style scoped>\n",
       "    .dataframe tbody tr th:only-of-type {\n",
       "        vertical-align: middle;\n",
       "    }\n",
       "\n",
       "    .dataframe tbody tr th {\n",
       "        vertical-align: top;\n",
       "    }\n",
       "\n",
       "    .dataframe thead th {\n",
       "        text-align: right;\n",
       "    }\n",
       "</style>\n",
       "<table border=\"1\" class=\"dataframe\">\n",
       "  <thead>\n",
       "    <tr style=\"text-align: right;\">\n",
       "      <th></th>\n",
       "      <th>reviewerID</th>\n",
       "      <th>asin</th>\n",
       "      <th>reviewText</th>\n",
       "    </tr>\n",
       "  </thead>\n",
       "  <tbody>\n",
       "    <tr>\n",
       "      <th>107080</th>\n",
       "      <td>A3GOOSN0MSIUNL</td>\n",
       "      <td>B008OHNZI0</td>\n",
       "      <td>It has a great thicker feel to it then a gener...</td>\n",
       "    </tr>\n",
       "    <tr>\n",
       "      <th>107081</th>\n",
       "      <td>AD6JYS5M2JS3V</td>\n",
       "      <td>B008OHNZI0</td>\n",
       "      <td>Very good fit. Easy to install. No bubbles. I ...</td>\n",
       "    </tr>\n",
       "    <tr>\n",
       "      <th>107082</th>\n",
       "      <td>A3Y37V6NNXYO4</td>\n",
       "      <td>B008OHNZI0</td>\n",
       "      <td>Great screen protector I've only used one so f...</td>\n",
       "    </tr>\n",
       "    <tr>\n",
       "      <th>107083</th>\n",
       "      <td>A1DNZ6WFXF3JF2</td>\n",
       "      <td>B008OHNZI0</td>\n",
       "      <td>Bought these a few weeks back and wanted to wa...</td>\n",
       "    </tr>\n",
       "    <tr>\n",
       "      <th>107084</th>\n",
       "      <td>ATKV0DKVBDT10</td>\n",
       "      <td>B008OHNZI0</td>\n",
       "      <td>It's easy to install (if you bother to read in...</td>\n",
       "    </tr>\n",
       "  </tbody>\n",
       "</table>\n",
       "</div>"
      ],
      "text/plain": [
       "            reviewerID  ...                                         reviewText\n",
       "107080  A3GOOSN0MSIUNL  ...  It has a great thicker feel to it then a gener...\n",
       "107081   AD6JYS5M2JS3V  ...  Very good fit. Easy to install. No bubbles. I ...\n",
       "107082   A3Y37V6NNXYO4  ...  Great screen protector I've only used one so f...\n",
       "107083  A1DNZ6WFXF3JF2  ...  Bought these a few weeks back and wanted to wa...\n",
       "107084   ATKV0DKVBDT10  ...  It's easy to install (if you bother to read in...\n",
       "\n",
       "[5 rows x 3 columns]"
      ]
     },
     "execution_count": 9,
     "metadata": {
      "tags": []
     },
     "output_type": "execute_result"
    }
   ],
   "source": [
    "review.head()"
   ]
  },
  {
   "cell_type": "code",
   "execution_count": null,
   "metadata": {
    "colab": {
     "base_uri": "https://localhost:8080/",
     "height": 766
    },
    "colab_type": "code",
    "id": "yTD-7XRUN15V",
    "outputId": "11b41a54-2431-432a-8cbe-7e011d11cb20"
   },
   "outputs": [
    {
     "name": "stdout",
     "output_type": "stream",
     "text": [
      "Collecting git+https://github.com/boudinfl/pke.git\n",
      "  Cloning https://github.com/boudinfl/pke.git to /tmp/pip-req-build-ctlxl_oo\n",
      "  Running command git clone -q https://github.com/boudinfl/pke.git /tmp/pip-req-build-ctlxl_oo\n",
      "Requirement already satisfied: nltk in /usr/local/lib/python3.6/dist-packages (from pke==1.8.1) (3.2.5)\n",
      "Requirement already satisfied: networkx in /usr/local/lib/python3.6/dist-packages (from pke==1.8.1) (2.4)\n",
      "Requirement already satisfied: numpy in /usr/local/lib/python3.6/dist-packages (from pke==1.8.1) (1.18.5)\n",
      "Requirement already satisfied: scipy in /usr/local/lib/python3.6/dist-packages (from pke==1.8.1) (1.4.1)\n",
      "Requirement already satisfied: spacy in /usr/local/lib/python3.6/dist-packages (from pke==1.8.1) (2.2.4)\n",
      "Requirement already satisfied: six in /usr/local/lib/python3.6/dist-packages (from pke==1.8.1) (1.12.0)\n",
      "Requirement already satisfied: sklearn in /usr/local/lib/python3.6/dist-packages (from pke==1.8.1) (0.0)\n",
      "Collecting unidecode\n",
      "\u001b[?25l  Downloading https://files.pythonhosted.org/packages/d0/42/d9edfed04228bacea2d824904cae367ee9efd05e6cce7ceaaedd0b0ad964/Unidecode-1.1.1-py2.py3-none-any.whl (238kB)\n",
      "\u001b[K     |████████████████████████████████| 245kB 2.8MB/s \n",
      "\u001b[?25hRequirement already satisfied: future in /usr/local/lib/python3.6/dist-packages (from pke==1.8.1) (0.16.0)\n",
      "Requirement already satisfied: joblib in /usr/local/lib/python3.6/dist-packages (from pke==1.8.1) (0.16.0)\n",
      "Requirement already satisfied: decorator>=4.3.0 in /usr/local/lib/python3.6/dist-packages (from networkx->pke==1.8.1) (4.4.2)\n",
      "Requirement already satisfied: blis<0.5.0,>=0.4.0 in /usr/local/lib/python3.6/dist-packages (from spacy->pke==1.8.1) (0.4.1)\n",
      "Requirement already satisfied: catalogue<1.1.0,>=0.0.7 in /usr/local/lib/python3.6/dist-packages (from spacy->pke==1.8.1) (1.0.0)\n",
      "Requirement already satisfied: preshed<3.1.0,>=3.0.2 in /usr/local/lib/python3.6/dist-packages (from spacy->pke==1.8.1) (3.0.2)\n",
      "Requirement already satisfied: requests<3.0.0,>=2.13.0 in /usr/local/lib/python3.6/dist-packages (from spacy->pke==1.8.1) (2.23.0)\n",
      "Requirement already satisfied: wasabi<1.1.0,>=0.4.0 in /usr/local/lib/python3.6/dist-packages (from spacy->pke==1.8.1) (0.7.0)\n",
      "Requirement already satisfied: plac<1.2.0,>=0.9.6 in /usr/local/lib/python3.6/dist-packages (from spacy->pke==1.8.1) (1.1.3)\n",
      "Requirement already satisfied: setuptools in /usr/local/lib/python3.6/dist-packages (from spacy->pke==1.8.1) (49.1.0)\n",
      "Requirement already satisfied: tqdm<5.0.0,>=4.38.0 in /usr/local/lib/python3.6/dist-packages (from spacy->pke==1.8.1) (4.41.1)\n",
      "Requirement already satisfied: cymem<2.1.0,>=2.0.2 in /usr/local/lib/python3.6/dist-packages (from spacy->pke==1.8.1) (2.0.3)\n",
      "Requirement already satisfied: srsly<1.1.0,>=1.0.2 in /usr/local/lib/python3.6/dist-packages (from spacy->pke==1.8.1) (1.0.2)\n",
      "Requirement already satisfied: thinc==7.4.0 in /usr/local/lib/python3.6/dist-packages (from spacy->pke==1.8.1) (7.4.0)\n",
      "Requirement already satisfied: murmurhash<1.1.0,>=0.28.0 in /usr/local/lib/python3.6/dist-packages (from spacy->pke==1.8.1) (1.0.2)\n",
      "Requirement already satisfied: scikit-learn in /usr/local/lib/python3.6/dist-packages (from sklearn->pke==1.8.1) (0.22.2.post1)\n",
      "Requirement already satisfied: importlib-metadata>=0.20; python_version < \"3.8\" in /usr/local/lib/python3.6/dist-packages (from catalogue<1.1.0,>=0.0.7->spacy->pke==1.8.1) (1.7.0)\n",
      "Requirement already satisfied: urllib3!=1.25.0,!=1.25.1,<1.26,>=1.21.1 in /usr/local/lib/python3.6/dist-packages (from requests<3.0.0,>=2.13.0->spacy->pke==1.8.1) (1.24.3)\n",
      "Requirement already satisfied: certifi>=2017.4.17 in /usr/local/lib/python3.6/dist-packages (from requests<3.0.0,>=2.13.0->spacy->pke==1.8.1) (2020.6.20)\n",
      "Requirement already satisfied: chardet<4,>=3.0.2 in /usr/local/lib/python3.6/dist-packages (from requests<3.0.0,>=2.13.0->spacy->pke==1.8.1) (3.0.4)\n",
      "Requirement already satisfied: idna<3,>=2.5 in /usr/local/lib/python3.6/dist-packages (from requests<3.0.0,>=2.13.0->spacy->pke==1.8.1) (2.10)\n",
      "Requirement already satisfied: zipp>=0.5 in /usr/local/lib/python3.6/dist-packages (from importlib-metadata>=0.20; python_version < \"3.8\"->catalogue<1.1.0,>=0.0.7->spacy->pke==1.8.1) (3.1.0)\n",
      "Building wheels for collected packages: pke\n",
      "  Building wheel for pke (setup.py) ... \u001b[?25l\u001b[?25hdone\n",
      "  Created wheel for pke: filename=pke-1.8.1-cp36-none-any.whl size=8759829 sha256=493f32245cfc27166cea637961fcf103f564a260b5759ec08635bfea6a170f37\n",
      "  Stored in directory: /tmp/pip-ephem-wheel-cache-6450jf7d/wheels/8d/24/54/6582e854e9e32dd6c632af6762b3a5d2f6b181c2992e165462\n",
      "Successfully built pke\n",
      "Installing collected packages: unidecode, pke\n",
      "Successfully installed pke-1.8.1 unidecode-1.1.1\n"
     ]
    }
   ],
   "source": [
    "!pip install git+https://github.com/boudinfl/pke.git"
   ]
  },
  {
   "cell_type": "code",
   "execution_count": null,
   "metadata": {
    "colab": {
     "base_uri": "https://localhost:8080/",
     "height": 124
    },
    "colab_type": "code",
    "id": "K7pP-wQ0OAB2",
    "outputId": "83a41778-80c5-4a9b-ea5a-b942311334ae"
   },
   "outputs": [
    {
     "name": "stderr",
     "output_type": "stream",
     "text": [
      "/usr/local/lib/python3.6/dist-packages/statsmodels/tools/_testing.py:19: FutureWarning: pandas.util.testing is deprecated. Use the functions in the public API at pandas.testing instead.\n",
      "  import pandas.util.testing as tm\n"
     ]
    },
    {
     "name": "stdout",
     "output_type": "stream",
     "text": [
      "[nltk_data] Downloading package stopwords to /root/nltk_data...\n",
      "[nltk_data]   Unzipping corpora/stopwords.zip.\n"
     ]
    },
    {
     "data": {
      "text/plain": [
       "True"
      ]
     },
     "execution_count": 11,
     "metadata": {
      "tags": []
     },
     "output_type": "execute_result"
    }
   ],
   "source": [
    "import seaborn as sns\n",
    "import nltk\n",
    "from sklearn.feature_extraction.text import CountVectorizer, TfidfTransformer\n",
    "from sklearn.decomposition import LatentDirichletAllocation\n",
    "from sklearn.cluster import KMeans\n",
    "from sklearn.cluster import AffinityPropagation\n",
    "import re\n",
    "import pke\n",
    "import datetime\n",
    "nltk.download('stopwords')"
   ]
  },
  {
   "cell_type": "code",
   "execution_count": null,
   "metadata": {
    "colab": {
     "base_uri": "https://localhost:8080/",
     "height": 330
    },
    "colab_type": "code",
    "id": "rEWnpn_XOJj9",
    "outputId": "2c124ebe-18a7-40b3-9fe1-1b6a3a0159b3"
   },
   "outputs": [
    {
     "name": "stderr",
     "output_type": "stream",
     "text": [
      "/usr/local/lib/python3.6/dist-packages/ipykernel_launcher.py:9: SettingWithCopyWarning: \n",
      "A value is trying to be set on a copy of a slice from a DataFrame.\n",
      "Try using .loc[row_indexer,col_indexer] = value instead\n",
      "\n",
      "See the caveats in the documentation: https://pandas.pydata.org/pandas-docs/stable/user_guide/indexing.html#returning-a-view-versus-a-copy\n",
      "  if __name__ == '__main__':\n"
     ]
    },
    {
     "data": {
      "text/html": [
       "<div>\n",
       "<style scoped>\n",
       "    .dataframe tbody tr th:only-of-type {\n",
       "        vertical-align: middle;\n",
       "    }\n",
       "\n",
       "    .dataframe tbody tr th {\n",
       "        vertical-align: top;\n",
       "    }\n",
       "\n",
       "    .dataframe thead th {\n",
       "        text-align: right;\n",
       "    }\n",
       "</style>\n",
       "<table border=\"1\" class=\"dataframe\">\n",
       "  <thead>\n",
       "    <tr style=\"text-align: right;\">\n",
       "      <th></th>\n",
       "      <th>reviewerID</th>\n",
       "      <th>asin</th>\n",
       "      <th>reviewText</th>\n",
       "      <th>Abstract_Keyphrases</th>\n",
       "    </tr>\n",
       "  </thead>\n",
       "  <tbody>\n",
       "    <tr>\n",
       "      <th>107080</th>\n",
       "      <td>A3GOOSN0MSIUNL</td>\n",
       "      <td>B008OHNZI0</td>\n",
       "      <td>It has a great thicker feel to it then a gener...</td>\n",
       "      <td>[(great fit, 0.5127160131695542)]</td>\n",
       "    </tr>\n",
       "    <tr>\n",
       "      <th>107081</th>\n",
       "      <td>AD6JYS5M2JS3V</td>\n",
       "      <td>B008OHNZI0</td>\n",
       "      <td>Very good fit. Easy to install. No bubbles. I ...</td>\n",
       "      <td>[(other screen protectors, 0.3076925076923066)]</td>\n",
       "    </tr>\n",
       "    <tr>\n",
       "      <th>107082</th>\n",
       "      <td>A3Y37V6NNXYO4</td>\n",
       "      <td>B008OHNZI0</td>\n",
       "      <td>Great screen protector I've only used one so f...</td>\n",
       "      <td>[(great screen protector, 0.3797468354424148)]</td>\n",
       "    </tr>\n",
       "    <tr>\n",
       "      <th>107083</th>\n",
       "      <td>A1DNZ6WFXF3JF2</td>\n",
       "      <td>B008OHNZI0</td>\n",
       "      <td>Bought these a few weeks back and wanted to wa...</td>\n",
       "      <td>[(perfect fit, 0.17155648818923408)]</td>\n",
       "    </tr>\n",
       "    <tr>\n",
       "      <th>107084</th>\n",
       "      <td>ATKV0DKVBDT10</td>\n",
       "      <td>B008OHNZI0</td>\n",
       "      <td>It's easy to install (if you bother to read in...</td>\n",
       "      <td>[(clear screen protector, 0.4724414661784721)]</td>\n",
       "    </tr>\n",
       "  </tbody>\n",
       "</table>\n",
       "</div>"
      ],
      "text/plain": [
       "            reviewerID  ...                              Abstract_Keyphrases\n",
       "107080  A3GOOSN0MSIUNL  ...                [(great fit, 0.5127160131695542)]\n",
       "107081   AD6JYS5M2JS3V  ...  [(other screen protectors, 0.3076925076923066)]\n",
       "107082   A3Y37V6NNXYO4  ...   [(great screen protector, 0.3797468354424148)]\n",
       "107083  A1DNZ6WFXF3JF2  ...             [(perfect fit, 0.17155648818923408)]\n",
       "107084   ATKV0DKVBDT10  ...   [(clear screen protector, 0.4724414661784721)]\n",
       "\n",
       "[5 rows x 4 columns]"
      ]
     },
     "execution_count": 12,
     "metadata": {
      "tags": []
     },
     "output_type": "execute_result"
    }
   ],
   "source": [
    "def extract_keyphrases(caption, n):\n",
    "    extractor = pke.unsupervised.TextRank() \n",
    "    extractor.load_document(caption)\n",
    "    extractor.candidate_selection()\n",
    "    extractor.candidate_weighting()\n",
    "    keyphrases = extractor.get_n_best(n=n, stemming=False)\n",
    "    return(keyphrases)\n",
    "a = datetime.datetime.now()    \n",
    "review['Abstract_Keyphrases'] = review.apply(lambda row: (extract_keyphrases(row['reviewText'],1)),axis=1)\n",
    "b = datetime.datetime.now()\n",
    "review.head()"
   ]
  },
  {
   "cell_type": "code",
   "execution_count": null,
   "metadata": {
    "colab": {
     "base_uri": "https://localhost:8080/",
     "height": 34
    },
    "colab_type": "code",
    "id": "1ZOzExK8cACy",
    "outputId": "6d60835c-de22-4485-9244-8241056a5963"
   },
   "outputs": [
    {
     "name": "stdout",
     "output_type": "stream",
     "text": [
      "0:06:12.576741\n"
     ]
    }
   ],
   "source": [
    "print(b-a)"
   ]
  },
  {
   "cell_type": "code",
   "execution_count": null,
   "metadata": {
    "colab": {
     "base_uri": "https://localhost:8080/",
     "height": 519
    },
    "colab_type": "code",
    "id": "RHYpNRQ6PEt3",
    "outputId": "43d7d5dc-48a9-4dc3-a845-361fead93beb"
   },
   "outputs": [
    {
     "data": {
      "text/html": [
       "<div>\n",
       "<style scoped>\n",
       "    .dataframe tbody tr th:only-of-type {\n",
       "        vertical-align: middle;\n",
       "    }\n",
       "\n",
       "    .dataframe tbody tr th {\n",
       "        vertical-align: top;\n",
       "    }\n",
       "\n",
       "    .dataframe thead th {\n",
       "        text-align: right;\n",
       "    }\n",
       "</style>\n",
       "<table border=\"1\" class=\"dataframe\">\n",
       "  <thead>\n",
       "    <tr style=\"text-align: right;\">\n",
       "      <th></th>\n",
       "      <th>reviewerID</th>\n",
       "      <th>asin</th>\n",
       "      <th>reviewText</th>\n",
       "      <th>Abstract_Keyphrases</th>\n",
       "      <th>title_cluster</th>\n",
       "    </tr>\n",
       "  </thead>\n",
       "  <tbody>\n",
       "    <tr>\n",
       "      <th>107727</th>\n",
       "      <td>A2AAFB5UY9KBFL</td>\n",
       "      <td>B008OHNZI0</td>\n",
       "      <td>Originally 2 stars (changed it later)So the sc...</td>\n",
       "      <td>[(multi - colored tiny dots, 0.116762019831747...</td>\n",
       "      <td>647</td>\n",
       "    </tr>\n",
       "    <tr>\n",
       "      <th>107728</th>\n",
       "      <td>A3OGNO1H7IO3NH</td>\n",
       "      <td>B008OHNZI0</td>\n",
       "      <td>Screen protector went on nice and felt premium...</td>\n",
       "      <td>[(little more practice, 0.1916940207308027)]</td>\n",
       "      <td>648</td>\n",
       "    </tr>\n",
       "    <tr>\n",
       "      <th>107729</th>\n",
       "      <td>A20R37WRPLUM1D</td>\n",
       "      <td>B008OHNZI0</td>\n",
       "      <td>Fairly easy to install (well, as easy as any o...</td>\n",
       "      <td>[(anti - glare surface, 0.606024027883172)]</td>\n",
       "      <td>649</td>\n",
       "    </tr>\n",
       "    <tr>\n",
       "      <th>107730</th>\n",
       "      <td>A1CMVCY4ZCUJSV</td>\n",
       "      <td>B008OHNZI0</td>\n",
       "      <td>Received it pretty quick, I have the Iphone 5c...</td>\n",
       "      <td>[(screen protectors, 0.726864500857648)]</td>\n",
       "      <td>650</td>\n",
       "    </tr>\n",
       "    <tr>\n",
       "      <th>107731</th>\n",
       "      <td>A39HZEFMA3GKI4</td>\n",
       "      <td>B008OHNZI0</td>\n",
       "      <td>The screen protector is a perfect fit. I follo...</td>\n",
       "      <td>[(perfect fit, 0.4493874773271151)]</td>\n",
       "      <td>651</td>\n",
       "    </tr>\n",
       "    <tr>\n",
       "      <th>107732</th>\n",
       "      <td>A2LTYEYGKBYXRR</td>\n",
       "      <td>B008OHNZI0</td>\n",
       "      <td>Box contents:- 1x iPhone 5 RetinaShield Screen...</td>\n",
       "      <td>[(tech armors retinashield blue light filter s...</td>\n",
       "      <td>652</td>\n",
       "    </tr>\n",
       "    <tr>\n",
       "      <th>107733</th>\n",
       "      <td>A3DZ7UB4R8JW6B</td>\n",
       "      <td>B008OHNZI0</td>\n",
       "      <td>The privacy screen is made of a durable materi...</td>\n",
       "      <td>[(low brightness setting, 0.1367205921596235)]</td>\n",
       "      <td>653</td>\n",
       "    </tr>\n",
       "    <tr>\n",
       "      <th>107734</th>\n",
       "      <td>A1H685WQ1L4F4T</td>\n",
       "      <td>B008OHNZI0</td>\n",
       "      <td>I bought a otterbox case for my iphone 5 and i...</td>\n",
       "      <td>[(loyal tech armor costumer, 0.1407949366699391)]</td>\n",
       "      <td>654</td>\n",
       "    </tr>\n",
       "    <tr>\n",
       "      <th>107735</th>\n",
       "      <td>AFY3OKG2XR4L6</td>\n",
       "      <td>B008OHNZI0</td>\n",
       "      <td>I still have a few bubbles, but it's gotta be ...</td>\n",
       "      <td>[(free shipping, 0.20083407557708374)]</td>\n",
       "      <td>655</td>\n",
       "    </tr>\n",
       "    <tr>\n",
       "      <th>107736</th>\n",
       "      <td>A3OKKZM41VOZK7</td>\n",
       "      <td>B008OHNZI0</td>\n",
       "      <td>These are really the worst screen protectors I...</td>\n",
       "      <td>[(worst screen protectors, 0.39473688210526314)]</td>\n",
       "      <td>656</td>\n",
       "    </tr>\n",
       "  </tbody>\n",
       "</table>\n",
       "</div>"
      ],
      "text/plain": [
       "            reviewerID  ... title_cluster\n",
       "107727  A2AAFB5UY9KBFL  ...           647\n",
       "107728  A3OGNO1H7IO3NH  ...           648\n",
       "107729  A20R37WRPLUM1D  ...           649\n",
       "107730  A1CMVCY4ZCUJSV  ...           650\n",
       "107731  A39HZEFMA3GKI4  ...           651\n",
       "107732  A2LTYEYGKBYXRR  ...           652\n",
       "107733  A3DZ7UB4R8JW6B  ...           653\n",
       "107734  A1H685WQ1L4F4T  ...           654\n",
       "107735   AFY3OKG2XR4L6  ...           655\n",
       "107736  A3OKKZM41VOZK7  ...           656\n",
       "\n",
       "[10 rows x 5 columns]"
      ]
     },
     "execution_count": 18,
     "metadata": {
      "tags": []
     },
     "output_type": "execute_result"
    }
   ],
   "source": [
    "review[-10:]"
   ]
  },
  {
   "cell_type": "code",
   "execution_count": null,
   "metadata": {
    "colab": {},
    "colab_type": "code",
    "id": "F95c2Musikt9"
   },
   "outputs": [],
   "source": [
    "tag = []\n",
    "for index, rows in review.iterrows(): \n",
    "  my_list =[rows.Abstract_Keyphrases] \n",
    "  tag.append(my_list) \n",
    "\n"
   ]
  },
  {
   "cell_type": "code",
   "execution_count": null,
   "metadata": {
    "colab": {
     "base_uri": "https://localhost:8080/",
     "height": 104
    },
    "colab_type": "code",
    "id": "hF_RTX-0lRZ9",
    "outputId": "d923bb89-0a7f-4266-81f5-652b6255c685"
   },
   "outputs": [
    {
     "data": {
      "text/plain": [
       "[('other screen protectors', 0.3076925076923066),\n",
       " ('great screen protector', 0.3797468354424148),\n",
       " ('perfect fit', 0.17155648818923408),\n",
       " ('clear screen protector', 0.4724414661784721),\n",
       " ('facetime camera hole', 0.261795708237837)]"
      ]
     },
     "execution_count": 20,
     "metadata": {
      "tags": []
     },
     "output_type": "execute_result"
    }
   ],
   "source": [
    "tags = []\n",
    "for i in range(len(tag)):\n",
    "  try:\n",
    "    if len(tag[i][0][0][0]) > 10:\n",
    "      tags.append(tag[i][0][0])\n",
    "  except:\n",
    "    pass\n",
    "tags[:5]"
   ]
  },
  {
   "cell_type": "code",
   "execution_count": null,
   "metadata": {
    "colab": {
     "base_uri": "https://localhost:8080/",
     "height": 424
    },
    "colab_type": "code",
    "id": "f9EWrSSYpgko",
    "outputId": "f35bdfec-ef21-42d9-c40d-28f6778a5803"
   },
   "outputs": [
    {
     "data": {
      "text/html": [
       "<div>\n",
       "<style scoped>\n",
       "    .dataframe tbody tr th:only-of-type {\n",
       "        vertical-align: middle;\n",
       "    }\n",
       "\n",
       "    .dataframe tbody tr th {\n",
       "        vertical-align: top;\n",
       "    }\n",
       "\n",
       "    .dataframe thead th {\n",
       "        text-align: right;\n",
       "    }\n",
       "</style>\n",
       "<table border=\"1\" class=\"dataframe\">\n",
       "  <thead>\n",
       "    <tr style=\"text-align: right;\">\n",
       "      <th></th>\n",
       "      <th>Tags</th>\n",
       "      <th>Score</th>\n",
       "    </tr>\n",
       "  </thead>\n",
       "  <tbody>\n",
       "    <tr>\n",
       "      <th>0</th>\n",
       "      <td>other screen protectors</td>\n",
       "      <td>0.307693</td>\n",
       "    </tr>\n",
       "    <tr>\n",
       "      <th>1</th>\n",
       "      <td>great screen protector</td>\n",
       "      <td>0.379747</td>\n",
       "    </tr>\n",
       "    <tr>\n",
       "      <th>2</th>\n",
       "      <td>perfect fit</td>\n",
       "      <td>0.171556</td>\n",
       "    </tr>\n",
       "    <tr>\n",
       "      <th>3</th>\n",
       "      <td>clear screen protector</td>\n",
       "      <td>0.472441</td>\n",
       "    </tr>\n",
       "    <tr>\n",
       "      <th>4</th>\n",
       "      <td>facetime camera hole</td>\n",
       "      <td>0.261796</td>\n",
       "    </tr>\n",
       "    <tr>\n",
       "      <th>...</th>\n",
       "      <td>...</td>\n",
       "      <td>...</td>\n",
       "    </tr>\n",
       "    <tr>\n",
       "      <th>536</th>\n",
       "      <td>tech armors retinashield blue light filter scr...</td>\n",
       "      <td>0.181933</td>\n",
       "    </tr>\n",
       "    <tr>\n",
       "      <th>537</th>\n",
       "      <td>low brightness setting</td>\n",
       "      <td>0.136721</td>\n",
       "    </tr>\n",
       "    <tr>\n",
       "      <th>538</th>\n",
       "      <td>loyal tech armor costumer</td>\n",
       "      <td>0.140795</td>\n",
       "    </tr>\n",
       "    <tr>\n",
       "      <th>539</th>\n",
       "      <td>free shipping</td>\n",
       "      <td>0.200834</td>\n",
       "    </tr>\n",
       "    <tr>\n",
       "      <th>540</th>\n",
       "      <td>worst screen protectors</td>\n",
       "      <td>0.394737</td>\n",
       "    </tr>\n",
       "  </tbody>\n",
       "</table>\n",
       "<p>541 rows × 2 columns</p>\n",
       "</div>"
      ],
      "text/plain": [
       "                                                  Tags     Score\n",
       "0                              other screen protectors  0.307693\n",
       "1                               great screen protector  0.379747\n",
       "2                                          perfect fit  0.171556\n",
       "3                               clear screen protector  0.472441\n",
       "4                                 facetime camera hole  0.261796\n",
       "..                                                 ...       ...\n",
       "536  tech armors retinashield blue light filter scr...  0.181933\n",
       "537                             low brightness setting  0.136721\n",
       "538                          loyal tech armor costumer  0.140795\n",
       "539                                      free shipping  0.200834\n",
       "540                            worst screen protectors  0.394737\n",
       "\n",
       "[541 rows x 2 columns]"
      ]
     },
     "execution_count": 21,
     "metadata": {
      "tags": []
     },
     "output_type": "execute_result"
    }
   ],
   "source": [
    "df = pd.DataFrame(tags, columns=['Tags','Score'])\n",
    "df"
   ]
  },
  {
   "cell_type": "code",
   "execution_count": null,
   "metadata": {
    "colab": {
     "base_uri": "https://localhost:8080/",
     "height": 206
    },
    "colab_type": "code",
    "id": "a98a6XaqrE-k",
    "outputId": "ee6612eb-0ac7-4f7c-c1ac-5dbcefa4b1b7"
   },
   "outputs": [
    {
     "data": {
      "text/html": [
       "<div>\n",
       "<style scoped>\n",
       "    .dataframe tbody tr th:only-of-type {\n",
       "        vertical-align: middle;\n",
       "    }\n",
       "\n",
       "    .dataframe tbody tr th {\n",
       "        vertical-align: top;\n",
       "    }\n",
       "\n",
       "    .dataframe thead th {\n",
       "        text-align: right;\n",
       "    }\n",
       "</style>\n",
       "<table border=\"1\" class=\"dataframe\">\n",
       "  <thead>\n",
       "    <tr style=\"text-align: right;\">\n",
       "      <th></th>\n",
       "      <th>Tags</th>\n",
       "      <th>Score</th>\n",
       "    </tr>\n",
       "  </thead>\n",
       "  <tbody>\n",
       "    <tr>\n",
       "      <th>399</th>\n",
       "      <td>fast shipping</td>\n",
       "      <td>1.000000</td>\n",
       "    </tr>\n",
       "    <tr>\n",
       "      <th>138</th>\n",
       "      <td>great price work</td>\n",
       "      <td>1.000000</td>\n",
       "    </tr>\n",
       "    <tr>\n",
       "      <th>241</th>\n",
       "      <td>good quality screen protector</td>\n",
       "      <td>0.963855</td>\n",
       "    </tr>\n",
       "    <tr>\n",
       "      <th>256</th>\n",
       "      <td>less air bubbles</td>\n",
       "      <td>0.952381</td>\n",
       "    </tr>\n",
       "    <tr>\n",
       "      <th>355</th>\n",
       "      <td>tech armor iphone screen protectors</td>\n",
       "      <td>0.943396</td>\n",
       "    </tr>\n",
       "  </tbody>\n",
       "</table>\n",
       "</div>"
      ],
      "text/plain": [
       "                                    Tags     Score\n",
       "399                        fast shipping  1.000000\n",
       "138                     great price work  1.000000\n",
       "241        good quality screen protector  0.963855\n",
       "256                     less air bubbles  0.952381\n",
       "355  tech armor iphone screen protectors  0.943396"
      ]
     },
     "execution_count": 22,
     "metadata": {
      "tags": []
     },
     "output_type": "execute_result"
    }
   ],
   "source": [
    "df = df.sort_values(\"Score\", axis = 0, ascending = False, inplace=False)\n",
    "df[:5]"
   ]
  },
  {
   "cell_type": "code",
   "execution_count": null,
   "metadata": {
    "colab": {},
    "colab_type": "code",
    "id": "GshPjzhCto2N"
   },
   "outputs": [],
   "source": [
    "reviews = reviews[['reviewerID','asin','reviewText']]"
   ]
  },
  {
   "cell_type": "code",
   "execution_count": null,
   "metadata": {
    "colab": {
     "base_uri": "https://localhost:8080/",
     "height": 228
    },
    "colab_type": "code",
    "id": "UE11aokcvri8",
    "outputId": "272032ac-3a45-4715-a92c-1d4dc4d9ca1d"
   },
   "outputs": [
    {
     "name": "stdout",
     "output_type": "stream",
     "text": [
      "Collecting rake-nltk\n",
      "  Downloading https://files.pythonhosted.org/packages/8e/c4/b4ff57e541ac5624ad4b20b89c2bafd4e98f29fd83139f3a81858bdb3815/rake_nltk-1.0.4.tar.gz\n",
      "Requirement already satisfied: nltk in /usr/local/lib/python3.6/dist-packages (from rake-nltk) (3.2.5)\n",
      "Requirement already satisfied: six in /usr/local/lib/python3.6/dist-packages (from nltk->rake-nltk) (1.12.0)\n",
      "Building wheels for collected packages: rake-nltk\n",
      "  Building wheel for rake-nltk (setup.py) ... \u001b[?25l\u001b[?25hdone\n",
      "  Created wheel for rake-nltk: filename=rake_nltk-1.0.4-py2.py3-none-any.whl size=7819 sha256=a3db3a26599fc54ca77bc7fced82b3e0cef643fd799f986dfd80801e4d324039\n",
      "  Stored in directory: /root/.cache/pip/wheels/ef/92/fc/271b3709e71a96ffe934b27818946b795ac6b9b8ff8682483f\n",
      "Successfully built rake-nltk\n",
      "Installing collected packages: rake-nltk\n",
      "Successfully installed rake-nltk-1.0.4\n"
     ]
    }
   ],
   "source": [
    "!pip install rake-nltk"
   ]
  },
  {
   "cell_type": "code",
   "execution_count": null,
   "metadata": {
    "colab": {},
    "colab_type": "code",
    "id": "hkadv-H7ty4l"
   },
   "outputs": [],
   "source": [
    "from rake_nltk import Rake,Metric\n",
    "r = Rake(min_length=2, max_length=3,ranking_metric=Metric.DEGREE_TO_FREQUENCY_RATIO)"
   ]
  },
  {
   "cell_type": "code",
   "execution_count": null,
   "metadata": {
    "colab": {},
    "colab_type": "code",
    "id": "jQckcSB_uMvK"
   },
   "outputs": [],
   "source": [
    "def rake_keyphrases(content , n):\n",
    "  tag = []\n",
    "  r.extract_keywords_from_text(content)\n",
    "  tag = r.get_ranked_phrases_with_scores()\n",
    "  return tag[:n]\n",
    "\n",
    "reviews['Abstract_Keyphrases'] = reviews.apply(lambda row: (rake_keyphrases(row['reviewText'],1)),axis=1)"
   ]
  },
  {
   "cell_type": "code",
   "execution_count": null,
   "metadata": {
    "colab": {
     "base_uri": "https://localhost:8080/",
     "height": 206
    },
    "colab_type": "code",
    "id": "B2UroD9Su4yD",
    "outputId": "a06ba89b-8587-4ed9-a981-3895e091ef35"
   },
   "outputs": [
    {
     "data": {
      "text/html": [
       "<div>\n",
       "<style scoped>\n",
       "    .dataframe tbody tr th:only-of-type {\n",
       "        vertical-align: middle;\n",
       "    }\n",
       "\n",
       "    .dataframe tbody tr th {\n",
       "        vertical-align: top;\n",
       "    }\n",
       "\n",
       "    .dataframe thead th {\n",
       "        text-align: right;\n",
       "    }\n",
       "</style>\n",
       "<table border=\"1\" class=\"dataframe\">\n",
       "  <thead>\n",
       "    <tr style=\"text-align: right;\">\n",
       "      <th></th>\n",
       "      <th>reviewerID</th>\n",
       "      <th>asin</th>\n",
       "      <th>reviewText</th>\n",
       "      <th>Abstract_Keyphrases</th>\n",
       "    </tr>\n",
       "  </thead>\n",
       "  <tbody>\n",
       "    <tr>\n",
       "      <th>107080</th>\n",
       "      <td>A3GOOSN0MSIUNL</td>\n",
       "      <td>B008OHNZI0</td>\n",
       "      <td>It has a great thicker feel to it then a gener...</td>\n",
       "      <td>[(8.5, great thicker feel)]</td>\n",
       "    </tr>\n",
       "    <tr>\n",
       "      <th>107081</th>\n",
       "      <td>AD6JYS5M2JS3V</td>\n",
       "      <td>B008OHNZI0</td>\n",
       "      <td>Very good fit. Easy to install. No bubbles. I ...</td>\n",
       "      <td>[(4.0, screen protectors)]</td>\n",
       "    </tr>\n",
       "    <tr>\n",
       "      <th>107082</th>\n",
       "      <td>A3Y37V6NNXYO4</td>\n",
       "      <td>B008OHNZI0</td>\n",
       "      <td>Great screen protector I've only used one so f...</td>\n",
       "      <td>[(8.5, one seemed easier)]</td>\n",
       "    </tr>\n",
       "    <tr>\n",
       "      <th>107083</th>\n",
       "      <td>A1DNZ6WFXF3JF2</td>\n",
       "      <td>B008OHNZI0</td>\n",
       "      <td>Bought these a few weeks back and wanted to wa...</td>\n",
       "      <td>[(9.0, 2 year old)]</td>\n",
       "    </tr>\n",
       "    <tr>\n",
       "      <th>107084</th>\n",
       "      <td>ATKV0DKVBDT10</td>\n",
       "      <td>B008OHNZI0</td>\n",
       "      <td>It's easy to install (if you bother to read in...</td>\n",
       "      <td>[(8.5, read instructions ).)]</td>\n",
       "    </tr>\n",
       "  </tbody>\n",
       "</table>\n",
       "</div>"
      ],
      "text/plain": [
       "            reviewerID  ...            Abstract_Keyphrases\n",
       "107080  A3GOOSN0MSIUNL  ...    [(8.5, great thicker feel)]\n",
       "107081   AD6JYS5M2JS3V  ...     [(4.0, screen protectors)]\n",
       "107082   A3Y37V6NNXYO4  ...     [(8.5, one seemed easier)]\n",
       "107083  A1DNZ6WFXF3JF2  ...            [(9.0, 2 year old)]\n",
       "107084   ATKV0DKVBDT10  ...  [(8.5, read instructions ).)]\n",
       "\n",
       "[5 rows x 4 columns]"
      ]
     },
     "execution_count": 40,
     "metadata": {
      "tags": []
     },
     "output_type": "execute_result"
    }
   ],
   "source": [
    "reviews.head()"
   ]
  },
  {
   "cell_type": "code",
   "execution_count": null,
   "metadata": {
    "colab": {},
    "colab_type": "code",
    "id": "3K1b8kTAv46R"
   },
   "outputs": [],
   "source": [
    "tag = []\n",
    "for index, rows in reviews.iterrows(): \n",
    "  my_list =[rows.Abstract_Keyphrases] \n",
    "  tag.append(my_list) "
   ]
  },
  {
   "cell_type": "code",
   "execution_count": null,
   "metadata": {
    "colab": {
     "base_uri": "https://localhost:8080/",
     "height": 104
    },
    "colab_type": "code",
    "id": "DBYLNjVIwJkB",
    "outputId": "643ad2a8-1227-4f69-d617-bd72a78b9b9c"
   },
   "outputs": [
    {
     "data": {
      "text/plain": [
       "[[[(8.5, 'great thicker feel')]],\n",
       " [[(4.0, 'screen protectors')]],\n",
       " [[(8.5, 'one seemed easier')]],\n",
       " [[(9.0, '2 year old')]],\n",
       " [[(8.5, 'read instructions ).')]]]"
      ]
     },
     "execution_count": 42,
     "metadata": {
      "tags": []
     },
     "output_type": "execute_result"
    }
   ],
   "source": [
    "tag[:5]"
   ]
  },
  {
   "cell_type": "code",
   "execution_count": null,
   "metadata": {
    "colab": {
     "base_uri": "https://localhost:8080/",
     "height": 104
    },
    "colab_type": "code",
    "id": "KKR-zKrJwLFV",
    "outputId": "76ce8c39-1e6f-47d6-e891-9993fee597eb"
   },
   "outputs": [
    {
     "data": {
      "text/plain": [
       "[(8.5, 'great thicker feel'),\n",
       " (4.0, 'screen protectors'),\n",
       " (8.5, 'one seemed easier'),\n",
       " (8.5, 'read instructions ).'),\n",
       " (8.5, 'facetime camera hole')]"
      ]
     },
     "execution_count": 43,
     "metadata": {
      "tags": []
     },
     "output_type": "execute_result"
    }
   ],
   "source": [
    "tags = []\n",
    "for i in range(len(tag)):\n",
    "  try:\n",
    "    if len(tag[i][0][0][1]) > 10:\n",
    "      tags.append(tag[i][0][0])\n",
    "  except:\n",
    "    pass\n",
    "tags[:5]"
   ]
  },
  {
   "cell_type": "code",
   "execution_count": null,
   "metadata": {
    "colab": {
     "base_uri": "https://localhost:8080/",
     "height": 424
    },
    "colab_type": "code",
    "id": "uPIwSFYrwRH_",
    "outputId": "4930556d-e3fd-4fc4-abc5-8a36d8142a0a"
   },
   "outputs": [
    {
     "data": {
      "text/html": [
       "<div>\n",
       "<style scoped>\n",
       "    .dataframe tbody tr th:only-of-type {\n",
       "        vertical-align: middle;\n",
       "    }\n",
       "\n",
       "    .dataframe tbody tr th {\n",
       "        vertical-align: top;\n",
       "    }\n",
       "\n",
       "    .dataframe thead th {\n",
       "        text-align: right;\n",
       "    }\n",
       "</style>\n",
       "<table border=\"1\" class=\"dataframe\">\n",
       "  <thead>\n",
       "    <tr style=\"text-align: right;\">\n",
       "      <th></th>\n",
       "      <th>Score</th>\n",
       "      <th>Tag</th>\n",
       "    </tr>\n",
       "  </thead>\n",
       "  <tbody>\n",
       "    <tr>\n",
       "      <th>0</th>\n",
       "      <td>8.5</td>\n",
       "      <td>great thicker feel</td>\n",
       "    </tr>\n",
       "    <tr>\n",
       "      <th>1</th>\n",
       "      <td>4.0</td>\n",
       "      <td>screen protectors</td>\n",
       "    </tr>\n",
       "    <tr>\n",
       "      <th>2</th>\n",
       "      <td>8.5</td>\n",
       "      <td>one seemed easier</td>\n",
       "    </tr>\n",
       "    <tr>\n",
       "      <th>3</th>\n",
       "      <td>8.5</td>\n",
       "      <td>read instructions ).</td>\n",
       "    </tr>\n",
       "    <tr>\n",
       "      <th>4</th>\n",
       "      <td>8.5</td>\n",
       "      <td>facetime camera hole</td>\n",
       "    </tr>\n",
       "    <tr>\n",
       "      <th>...</th>\n",
       "      <td>...</td>\n",
       "      <td>...</td>\n",
       "    </tr>\n",
       "    <tr>\n",
       "      <th>581</th>\n",
       "      <td>9.0</td>\n",
       "      <td>regulating sleep cycles</td>\n",
       "    </tr>\n",
       "    <tr>\n",
       "      <th>582</th>\n",
       "      <td>9.0</td>\n",
       "      <td>macbook pro due</td>\n",
       "    </tr>\n",
       "    <tr>\n",
       "      <th>583</th>\n",
       "      <td>9.0</td>\n",
       "      <td>leave finger marks</td>\n",
       "    </tr>\n",
       "    <tr>\n",
       "      <th>584</th>\n",
       "      <td>4.0</td>\n",
       "      <td>push bubbles</td>\n",
       "    </tr>\n",
       "    <tr>\n",
       "      <th>585</th>\n",
       "      <td>9.0</td>\n",
       "      <td>worst screen protectors</td>\n",
       "    </tr>\n",
       "  </tbody>\n",
       "</table>\n",
       "<p>586 rows × 2 columns</p>\n",
       "</div>"
      ],
      "text/plain": [
       "     Score                      Tag\n",
       "0      8.5       great thicker feel\n",
       "1      4.0        screen protectors\n",
       "2      8.5        one seemed easier\n",
       "3      8.5     read instructions ).\n",
       "4      8.5     facetime camera hole\n",
       "..     ...                      ...\n",
       "581    9.0  regulating sleep cycles\n",
       "582    9.0          macbook pro due\n",
       "583    9.0       leave finger marks\n",
       "584    4.0             push bubbles\n",
       "585    9.0  worst screen protectors\n",
       "\n",
       "[586 rows x 2 columns]"
      ]
     },
     "execution_count": 44,
     "metadata": {
      "tags": []
     },
     "output_type": "execute_result"
    }
   ],
   "source": [
    "df_rake = pd.DataFrame(tags, columns=['Score','Tag'])\n",
    "df_rake"
   ]
  },
  {
   "cell_type": "code",
   "execution_count": null,
   "metadata": {
    "colab": {
     "base_uri": "https://localhost:8080/",
     "height": 206
    },
    "colab_type": "code",
    "id": "r_BtC-kAwfWI",
    "outputId": "32496e14-9cad-40fe-c4e4-9d8cae0192cb"
   },
   "outputs": [
    {
     "data": {
      "text/html": [
       "<div>\n",
       "<style scoped>\n",
       "    .dataframe tbody tr th:only-of-type {\n",
       "        vertical-align: middle;\n",
       "    }\n",
       "\n",
       "    .dataframe tbody tr th {\n",
       "        vertical-align: top;\n",
       "    }\n",
       "\n",
       "    .dataframe thead th {\n",
       "        text-align: right;\n",
       "    }\n",
       "</style>\n",
       "<table border=\"1\" class=\"dataframe\">\n",
       "  <thead>\n",
       "    <tr style=\"text-align: right;\">\n",
       "      <th></th>\n",
       "      <th>Score</th>\n",
       "      <th>Tag</th>\n",
       "    </tr>\n",
       "  </thead>\n",
       "  <tbody>\n",
       "    <tr>\n",
       "      <th>293</th>\n",
       "      <td>9.0</td>\n",
       "      <td>cut outs line</td>\n",
       "    </tr>\n",
       "    <tr>\n",
       "      <th>371</th>\n",
       "      <td>9.0</td>\n",
       "      <td>takes hold easier</td>\n",
       "    </tr>\n",
       "    <tr>\n",
       "      <th>367</th>\n",
       "      <td>9.0</td>\n",
       "      <td>new iphone 5s</td>\n",
       "    </tr>\n",
       "    <tr>\n",
       "      <th>366</th>\n",
       "      <td>9.0</td>\n",
       "      <td>new iphone 5c</td>\n",
       "    </tr>\n",
       "    <tr>\n",
       "      <th>365</th>\n",
       "      <td>9.0</td>\n",
       "      <td>original protective plastic</td>\n",
       "    </tr>\n",
       "  </tbody>\n",
       "</table>\n",
       "</div>"
      ],
      "text/plain": [
       "     Score                          Tag\n",
       "293    9.0                cut outs line\n",
       "371    9.0            takes hold easier\n",
       "367    9.0                new iphone 5s\n",
       "366    9.0                new iphone 5c\n",
       "365    9.0  original protective plastic"
      ]
     },
     "execution_count": 45,
     "metadata": {
      "tags": []
     },
     "output_type": "execute_result"
    }
   ],
   "source": [
    "df_rake = df_rake.sort_values(\"Score\", axis = 0, ascending = False, inplace=False)\n",
    "df_rake[:5]"
   ]
  },
  {
   "cell_type": "code",
   "execution_count": null,
   "metadata": {
    "colab": {},
    "colab_type": "code",
    "id": "C1XHGcrSwnCn"
   },
   "outputs": [],
   "source": []
  }
 ],
 "metadata": {
  "colab": {
   "collapsed_sections": [],
   "name": "TagExtractorV4.ipynb",
   "provenance": []
  },
  "kernelspec": {
   "display_name": "Python 3",
   "language": "python",
   "name": "python3"
  },
  "language_info": {
   "codemirror_mode": {
    "name": "ipython",
    "version": 3
   },
   "file_extension": ".py",
   "mimetype": "text/x-python",
   "name": "python",
   "nbconvert_exporter": "python",
   "pygments_lexer": "ipython3",
   "version": "3.8.8"
  }
 },
 "nbformat": 4,
 "nbformat_minor": 4
}
