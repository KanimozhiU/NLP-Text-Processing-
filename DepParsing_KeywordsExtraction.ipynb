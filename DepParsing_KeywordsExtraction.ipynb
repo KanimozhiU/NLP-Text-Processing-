{
  "nbformat": 4,
  "nbformat_minor": 0,
  "metadata": {
    "colab": {
      "name": "DepParsing-KeywordsExtraction.ipynb",
      "provenance": [],
      "collapsed_sections": [
        "4zWnACnzaKZD"
      ]
    },
    "kernelspec": {
      "name": "python3",
      "display_name": "Python 3"
    },
    "widgets": {
      "application/vnd.jupyter.widget-state+json": {
        "7fc85abe9ad24d17bd9a0b4fa76afe9d": {
          "model_module": "@jupyter-widgets/controls",
          "model_name": "HBoxModel",
          "model_module_version": "1.5.0",
          "state": {
            "_view_name": "HBoxView",
            "_dom_classes": [],
            "_model_name": "HBoxModel",
            "_view_module": "@jupyter-widgets/controls",
            "_model_module_version": "1.5.0",
            "_view_count": null,
            "_view_module_version": "1.5.0",
            "box_style": "",
            "layout": "IPY_MODEL_23dddaeadc304899939792e8df736d05",
            "_model_module": "@jupyter-widgets/controls",
            "children": [
              "IPY_MODEL_4a70e38b575e4f8ca372b562eb829d79",
              "IPY_MODEL_5e28d2356deb42c9805450e11cc40f34"
            ]
          }
        },
        "23dddaeadc304899939792e8df736d05": {
          "model_module": "@jupyter-widgets/base",
          "model_name": "LayoutModel",
          "model_module_version": "1.2.0",
          "state": {
            "_view_name": "LayoutView",
            "grid_template_rows": null,
            "right": null,
            "justify_content": null,
            "_view_module": "@jupyter-widgets/base",
            "overflow": null,
            "_model_module_version": "1.2.0",
            "_view_count": null,
            "flex_flow": null,
            "width": null,
            "min_width": null,
            "border": null,
            "align_items": null,
            "bottom": null,
            "_model_module": "@jupyter-widgets/base",
            "top": null,
            "grid_column": null,
            "overflow_y": null,
            "overflow_x": null,
            "grid_auto_flow": null,
            "grid_area": null,
            "grid_template_columns": null,
            "flex": null,
            "_model_name": "LayoutModel",
            "justify_items": null,
            "grid_row": null,
            "max_height": null,
            "align_content": null,
            "visibility": null,
            "align_self": null,
            "height": null,
            "min_height": null,
            "padding": null,
            "grid_auto_rows": null,
            "grid_gap": null,
            "max_width": null,
            "order": null,
            "_view_module_version": "1.2.0",
            "grid_template_areas": null,
            "object_position": null,
            "object_fit": null,
            "grid_auto_columns": null,
            "margin": null,
            "display": null,
            "left": null
          }
        },
        "4a70e38b575e4f8ca372b562eb829d79": {
          "model_module": "@jupyter-widgets/controls",
          "model_name": "FloatProgressModel",
          "model_module_version": "1.5.0",
          "state": {
            "_view_name": "ProgressView",
            "style": "IPY_MODEL_ed30b149c897437da3dceaaaf2545b9d",
            "_dom_classes": [],
            "description": "100%",
            "_model_name": "FloatProgressModel",
            "bar_style": "success",
            "max": 10,
            "_view_module": "@jupyter-widgets/controls",
            "_model_module_version": "1.5.0",
            "value": 10,
            "_view_count": null,
            "_view_module_version": "1.5.0",
            "orientation": "horizontal",
            "min": 0,
            "description_tooltip": null,
            "_model_module": "@jupyter-widgets/controls",
            "layout": "IPY_MODEL_293b1eef52084f29b25707f56ae46668"
          }
        },
        "5e28d2356deb42c9805450e11cc40f34": {
          "model_module": "@jupyter-widgets/controls",
          "model_name": "HTMLModel",
          "model_module_version": "1.5.0",
          "state": {
            "_view_name": "HTMLView",
            "style": "IPY_MODEL_add3aeb06ca143eba80db61e2c1332cd",
            "_dom_classes": [],
            "description": "",
            "_model_name": "HTMLModel",
            "placeholder": "​",
            "_view_module": "@jupyter-widgets/controls",
            "_model_module_version": "1.5.0",
            "value": " 10/10 [29:02&lt;00:00, 174.23s/it]",
            "_view_count": null,
            "_view_module_version": "1.5.0",
            "description_tooltip": null,
            "_model_module": "@jupyter-widgets/controls",
            "layout": "IPY_MODEL_87731d6081a545a19a0303d9b8217a9d"
          }
        },
        "ed30b149c897437da3dceaaaf2545b9d": {
          "model_module": "@jupyter-widgets/controls",
          "model_name": "ProgressStyleModel",
          "model_module_version": "1.5.0",
          "state": {
            "_view_name": "StyleView",
            "_model_name": "ProgressStyleModel",
            "description_width": "initial",
            "_view_module": "@jupyter-widgets/base",
            "_model_module_version": "1.5.0",
            "_view_count": null,
            "_view_module_version": "1.2.0",
            "bar_color": null,
            "_model_module": "@jupyter-widgets/controls"
          }
        },
        "293b1eef52084f29b25707f56ae46668": {
          "model_module": "@jupyter-widgets/base",
          "model_name": "LayoutModel",
          "model_module_version": "1.2.0",
          "state": {
            "_view_name": "LayoutView",
            "grid_template_rows": null,
            "right": null,
            "justify_content": null,
            "_view_module": "@jupyter-widgets/base",
            "overflow": null,
            "_model_module_version": "1.2.0",
            "_view_count": null,
            "flex_flow": null,
            "width": null,
            "min_width": null,
            "border": null,
            "align_items": null,
            "bottom": null,
            "_model_module": "@jupyter-widgets/base",
            "top": null,
            "grid_column": null,
            "overflow_y": null,
            "overflow_x": null,
            "grid_auto_flow": null,
            "grid_area": null,
            "grid_template_columns": null,
            "flex": null,
            "_model_name": "LayoutModel",
            "justify_items": null,
            "grid_row": null,
            "max_height": null,
            "align_content": null,
            "visibility": null,
            "align_self": null,
            "height": null,
            "min_height": null,
            "padding": null,
            "grid_auto_rows": null,
            "grid_gap": null,
            "max_width": null,
            "order": null,
            "_view_module_version": "1.2.0",
            "grid_template_areas": null,
            "object_position": null,
            "object_fit": null,
            "grid_auto_columns": null,
            "margin": null,
            "display": null,
            "left": null
          }
        },
        "add3aeb06ca143eba80db61e2c1332cd": {
          "model_module": "@jupyter-widgets/controls",
          "model_name": "DescriptionStyleModel",
          "model_module_version": "1.5.0",
          "state": {
            "_view_name": "StyleView",
            "_model_name": "DescriptionStyleModel",
            "description_width": "",
            "_view_module": "@jupyter-widgets/base",
            "_model_module_version": "1.5.0",
            "_view_count": null,
            "_view_module_version": "1.2.0",
            "_model_module": "@jupyter-widgets/controls"
          }
        },
        "87731d6081a545a19a0303d9b8217a9d": {
          "model_module": "@jupyter-widgets/base",
          "model_name": "LayoutModel",
          "model_module_version": "1.2.0",
          "state": {
            "_view_name": "LayoutView",
            "grid_template_rows": null,
            "right": null,
            "justify_content": null,
            "_view_module": "@jupyter-widgets/base",
            "overflow": null,
            "_model_module_version": "1.2.0",
            "_view_count": null,
            "flex_flow": null,
            "width": null,
            "min_width": null,
            "border": null,
            "align_items": null,
            "bottom": null,
            "_model_module": "@jupyter-widgets/base",
            "top": null,
            "grid_column": null,
            "overflow_y": null,
            "overflow_x": null,
            "grid_auto_flow": null,
            "grid_area": null,
            "grid_template_columns": null,
            "flex": null,
            "_model_name": "LayoutModel",
            "justify_items": null,
            "grid_row": null,
            "max_height": null,
            "align_content": null,
            "visibility": null,
            "align_self": null,
            "height": null,
            "min_height": null,
            "padding": null,
            "grid_auto_rows": null,
            "grid_gap": null,
            "max_width": null,
            "order": null,
            "_view_module_version": "1.2.0",
            "grid_template_areas": null,
            "object_position": null,
            "object_fit": null,
            "grid_auto_columns": null,
            "margin": null,
            "display": null,
            "left": null
          }
        }
      }
    }
  },
  "cells": [
    {
      "cell_type": "code",
      "metadata": {
        "colab": {
          "base_uri": "https://localhost:8080/"
        },
        "id": "L-iL359wtNrz",
        "outputId": "5c79342a-d09c-46c4-ee6c-90839c65fb8f"
      },
      "source": [
        "# Install java\n",
        "!apt-get update -qq\n",
        "!apt-get install -y openjdk-8-jdk-headless -qq > /dev/null\n",
        "!java -version\n",
        "\n",
        "# Install pyspark\n",
        "!pip install --ignore-installed -q pyspark==2.4.4\n",
        "\n",
        "# Install Sparknlp+\n",
        "!pip install --ignore-installed spark-nlp"
      ],
      "execution_count": null,
      "outputs": [
        {
          "output_type": "stream",
          "text": [
            "openjdk version \"1.8.0_282\"\n",
            "OpenJDK Runtime Environment (build 1.8.0_282-8u282-b08-0ubuntu1~18.04-b08)\n",
            "OpenJDK 64-Bit Server VM (build 25.282-b08, mixed mode)\n",
            "\u001b[K     |████████████████████████████████| 215.7MB 65kB/s \n",
            "\u001b[K     |████████████████████████████████| 204kB 15.1MB/s \n",
            "\u001b[?25h  Building wheel for pyspark (setup.py) ... \u001b[?25l\u001b[?25hdone\n",
            "Collecting spark-nlp\n",
            "\u001b[?25l  Downloading https://files.pythonhosted.org/packages/1b/d9/44fd438e15fa9a02c0e3b3ca9eaffc509fc626592f7a03ce05d8f156d448/spark_nlp-2.7.5-py2.py3-none-any.whl (139kB)\n",
            "\u001b[K     |████████████████████████████████| 143kB 4.3MB/s \n",
            "\u001b[?25hInstalling collected packages: spark-nlp\n",
            "Successfully installed spark-nlp-2.7.5\n"
          ],
          "name": "stdout"
        }
      ]
    },
    {
      "cell_type": "code",
      "metadata": {
        "id": "m4_cl2HttUy5"
      },
      "source": [
        "import pandas as pd\n",
        "import numpy as np\n",
        "import os\n",
        "os.environ[\"JAVA_HOME\"] = \"/usr/lib/jvm/java-8-openjdk-amd64\"\n",
        "os.environ[\"PATH\"] = os.environ[\"JAVA_HOME\"] + \"/bin:\" + os.environ[\"PATH\"]\n",
        "memory = '10g'\n",
        "pyspark_submit_args = ' --driver-memory ' + memory + ' pyspark-shell'\n",
        "os.environ[\"PYSPARK_SUBMIT_ARGS\"] = pyspark_submit_args\n",
        "import json\n",
        "from sklearn.model_selection import train_test_split\n",
        "from sklearn.metrics import classification_report, accuracy_score\n",
        "from pyspark.ml import Pipeline\n",
        "from pyspark.sql import SparkSession\n",
        "import pyspark.sql.functions as F\n",
        "from sparknlp.annotator import *\n",
        "from sparknlp.base import *\n",
        "import sparknlp\n",
        "from sparknlp.pretrained import PretrainedPipeline\n",
        "\n",
        "spark = sparknlp.start()"
      ],
      "execution_count": null,
      "outputs": []
    },
    {
      "cell_type": "code",
      "metadata": {
        "id": "2pJCUpuztWxP"
      },
      "source": [
        "attr_df = pd.read_excel('/content/Updated attr dict.xlsx', sheet_name = 4)\n",
        "attr_df = attr_df[['Attributes List', 'Alternate attribute names', 'Updated Value Attributes']]\n",
        "topshop_df = pd.read_excel('/content/Women Dresses Web Scraped Data.xlsx', sheet_name = 1)\n",
        "sample_desc = pd.read_excel('/content/Women Dresses Web Scraped Data.xlsx', sheet_name = 5)"
      ],
      "execution_count": null,
      "outputs": []
    },
    {
      "cell_type": "markdown",
      "metadata": {
        "id": "egl38gowZCyr"
      },
      "source": [
        "# String matching"
      ]
    },
    {
      "cell_type": "code",
      "metadata": {
        "id": "IoEU83KuZB_C"
      },
      "source": [
        "attributenames = [i for i in attr_df['Attributes List'] if i and type(i) == str]\n",
        "attributenames = [i for i in attributenames if i not in ['Name', 'Price', 'Product Description', 'Decoration', 'With Belt', 'Weight', \\\n",
        "                                                         'Package', 'Style', 'Mechanism', 'Fit'] ]\n",
        "\n",
        "name_val_dict = {}\n",
        "for name in attributenames:\n",
        "  temp = attr_df[attr_df['Attributes List'] == name]\n",
        "  vals = [i for i in temp['Updated Value Attributes'] if i][0]\n",
        "  all_vals = vals.split(', ')\n",
        "  name_val_dict[name] = list(filter(None, list(set([i.lower() for i in all_vals]))))\n",
        "\n",
        "temp2 = attr_df[attr_df['Attributes List'] == 'Style']\n",
        "temp2.reset_index(inplace = True)\n",
        "style_vals = [] #list of dictionaries\n",
        "\n",
        "for i in temp2['Updated Value Attributes']:\n",
        "  substyle = i.split(' - ')[0].lower()\n",
        "  subvals = i.split(' - ')[1].split(', ')\n",
        "  temp_dict = {}\n",
        "  temp_dict[substyle] = list(set(i.lower() for i in subvals))\n",
        "  style_vals.append(temp_dict)\n",
        "\n",
        "name_val_dict[\"Style\"] = style_vals\n",
        "\n",
        "def string_matching_extraction(desc):\n",
        "  ans_list = []\n",
        "  temp_style = []\n",
        "  for key, val in name_val_dict.items():\n",
        "    if key != 'Style':\n",
        "      for val2 in val:\n",
        "        if val2 in desc.lower():\n",
        "          ans_list.append([key, val2]) \n",
        "          break\n",
        "    else:\n",
        "      for subdict in val: #style has list of dictionaries\n",
        "        if list(subdict.keys())[0] in desc.lower():\n",
        "          temp_style.append(list(subdict.keys())[0])\n",
        "          for subval in list(subdict.values())[0]:\n",
        "            if subval in desc.lower():\n",
        "              temp_style.append(subval)\n",
        "              break\n",
        "          if len(temp_style) == 1:\n",
        "            temp_style.append('No Style subvalue')\n",
        "            break\n",
        "      if len(temp_style) == 0:\n",
        "        temp_style.append('No Style value')\n",
        "        break\n",
        "  ans_list.append(temp_style)\n",
        "  return ans_list"
      ],
      "execution_count": null,
      "outputs": []
    },
    {
      "cell_type": "code",
      "metadata": {
        "id": "hCTtSO6tf9mn"
      },
      "source": [
        "name_val_dict['Size']"
      ],
      "execution_count": null,
      "outputs": []
    },
    {
      "cell_type": "code",
      "metadata": {
        "id": "DRRs0xv6f5Yy"
      },
      "source": [
        "topshop_sample = topshop_df.sample(30)"
      ],
      "execution_count": null,
      "outputs": []
    },
    {
      "cell_type": "code",
      "metadata": {
        "colab": {
          "base_uri": "https://localhost:8080/",
          "height": 1000
        },
        "id": "rHi3RUIrZpOj",
        "outputId": "e4d383ee-3779-4097-9df8-4a121aec9d42"
      },
      "source": [
        "topshop_sample['Attr segmented'] = topshop_sample.apply(lambda r : string_matching_extraction(r['Description']), axis = 1)\n",
        "pd.set_option('display.max_colwidth', 500)\n",
        "topshop_sample.head(30)"
      ],
      "execution_count": null,
      "outputs": [
        {
          "output_type": "execute_result",
          "data": {
            "text/html": [
              "<div>\n",
              "<style scoped>\n",
              "    .dataframe tbody tr th:only-of-type {\n",
              "        vertical-align: middle;\n",
              "    }\n",
              "\n",
              "    .dataframe tbody tr th {\n",
              "        vertical-align: top;\n",
              "    }\n",
              "\n",
              "    .dataframe thead th {\n",
              "        text-align: right;\n",
              "    }\n",
              "</style>\n",
              "<table border=\"1\" class=\"dataframe\">\n",
              "  <thead>\n",
              "    <tr style=\"text-align: right;\">\n",
              "      <th></th>\n",
              "      <th>Name</th>\n",
              "      <th>Price (£)</th>\n",
              "      <th>Description</th>\n",
              "      <th>Colour</th>\n",
              "      <th>Attr segmented</th>\n",
              "    </tr>\n",
              "  </thead>\n",
              "  <tbody>\n",
              "    <tr>\n",
              "      <th>313</th>\n",
              "      <td>Black Ruched Sleeve Floral Print Mini Tea Dress</td>\n",
              "      <td>10.00</td>\n",
              "      <td>This season tap into multiple trends with our multi printed tie dye bodycon mini slip dress. Perfect for creating a youthful spin to fashion, this ensemble is totally modern this season. 91% Polyester, 9% Elastane. Machine wash.Model's height is 5'9 and she wears a size 8.</td>\n",
              "      <td>BLACK</td>\n",
              "      <td>[[Size, m], [Colour, tan], [Material, polyester], [Silhouette, slip], [Dresses Length,  mini], [Pattern Type,  ], [Care Instructions / Wash Type,  machine wash], [Body Fit, tall], [No Style value]]</td>\n",
              "    </tr>\n",
              "    <tr>\n",
              "      <th>399</th>\n",
              "      <td>Ecru Floral Poplin Tea Dress</td>\n",
              "      <td>15.00</td>\n",
              "      <td>Add some trending fashion points to your look, day or evening with our all over leopard print jersey mini. This bodycon dress is designed with square neckline for a modern touch to your wardrobe. 92% Viscose, 8% Elastane. Machine wash.Model's height is 5'9 and she wears a size 8.</td>\n",
              "      <td>ECRU</td>\n",
              "      <td>[[Size, 2], [Colour, tan], [Occasion,  day], [Material, jersey], [Dresses Length,  mini], [Collar-line,  square neck], [Pattern Type,  ], [Care Instructions / Wash Type,  machine wash], [No Style value]]</td>\n",
              "    </tr>\n",
              "    <tr>\n",
              "      <th>209</th>\n",
              "      <td>Khaki Velvet Hooded Hoodie Mini Dress</td>\n",
              "      <td>15.00</td>\n",
              "      <td>Modern enthusiasts, this bold black cut and sew midi dress is designed for you. This belted beauty is sure to elevate any edit and add contemporary charm. Whether worn in the daytime or for special evenings, you will add that feminine appeal. We love this ensembles unique approach to dressing up this season! 54% Viscose, 43% Polyester, 3% Elastane. Machine wash.</td>\n",
              "      <td>KHAKI</td>\n",
              "      <td>[[Size, m], [Colour, black], [Occasion,  day], [Material, polyester], [Pattern Type,  ], [Care Instructions / Wash Type,  machine wash], [No Style value]]</td>\n",
              "    </tr>\n",
              "    <tr>\n",
              "      <th>109</th>\n",
              "      <td>Premium Leisure Black and White Tie Dye Sweatshirt Dress</td>\n",
              "      <td>29.69</td>\n",
              "      <td>There's something so timeless about a Topshop LBD. This bold black mini dress is designed with long sleeves and a flattering fashionable square neckline with mesh detailing. This ensemble can be elevated with some chunky leather boots. 95% Polyester, 5% Elastane. Machine wash.Model's height is 5'9 and she wears a size 8.</td>\n",
              "      <td>Monochrome</td>\n",
              "      <td>[[Size, m], [Colour, black], [Material,  leather], [Dresses Length,  mini], [Collar-line,  square neck], [Sleeves Length, long sleeve], [Pattern Type,  ], [Care Instructions / Wash Type,  machine wash], [No Style value]]</td>\n",
              "    </tr>\n",
              "    <tr>\n",
              "      <th>152</th>\n",
              "      <td>**MATERNITY Black Oversized Roll Neck Knitted Mini Dress</td>\n",
              "      <td>35.99</td>\n",
              "      <td>Dress your best with Topshop Boutique with our classic summer apple green midi dress. This piece is perfect for daytime strolls or evenings, make your look stylish day or night. 100% Cotton. Machine wash.**PLEASE NOTE THIS ITEM CAN ONLY BE RETURNED VIA POST. STORES ARE UNABLE TO RETURN THESE ITEMS FOR YOU. ALL UK POSTAL RETURNS ARE FREE. INTERNATIONAL POSTAL CHARGES WILL VARY.</td>\n",
              "      <td>BLACK</td>\n",
              "      <td>[[Size, 0], [Colour, apple green], [Occasion,  day], [Material, 100% cotton], [Pattern Type,  ], [Season, summer], [Care Instructions / Wash Type,  machine wash], [classic, No Style subvalue]]</td>\n",
              "    </tr>\n",
              "    <tr>\n",
              "      <th>292</th>\n",
              "      <td>Denim Puff Sleeve Mini Shirt Dress</td>\n",
              "      <td>15.00</td>\n",
              "      <td>Add some contemporary charm with our split front shirt dress in black and khaki print. It's all about the must-have modern details to elevate style this season. 100% Polyester. Machine wash.Model's height is 5'9 and she wears a size 8.</td>\n",
              "      <td>MID STONE</td>\n",
              "      <td>[[Size, 0], [Colour, black], [Material, polyester], [Silhouette, split], [Pattern Type,  ], [Care Instructions / Wash Type,  machine wash], [No Style value]]</td>\n",
              "    </tr>\n",
              "    <tr>\n",
              "      <th>39</th>\n",
              "      <td>Black Denim Tiered Mini Shirt Dress</td>\n",
              "      <td>27.99</td>\n",
              "      <td>This pink wrapped style tie dye dress is the ultimate mini for making a style statement. We love the trending design, introducing print to your wardrobe. Perfect for evenings, just add some strappy heels. 100% Polyester. Machine wash.Model's height is 5'9 and she wears a size 8.</td>\n",
              "      <td>BLACK</td>\n",
              "      <td>[[Size, 0], [Colour, pink], [Occasion, evening], [Material, polyester], [Dresses Length,  mini], [Pattern Type,  ], [Care Instructions / Wash Type,  machine wash], [No Style value]]</td>\n",
              "    </tr>\n",
              "    <tr>\n",
              "      <th>81</th>\n",
              "      <td>Black Ribbed Mini Dress</td>\n",
              "      <td>13.99</td>\n",
              "      <td>Our black textured midi dress with sleeve detailing is the ultimate wardrobe hero. Perfect for many occasions, this ensemble is reliable and won't let you down. When in doubt, opt for a black dress! 100% Polyester. Machine wash.Model's height is 5'9 and she wears a size 8.</td>\n",
              "      <td>BLACK</td>\n",
              "      <td>[[Size, 0], [Colour, black], [Material, polyester], [Pattern Type,  textured], [Care Instructions / Wash Type,  machine wash], [No Style value]]</td>\n",
              "    </tr>\n",
              "    <tr>\n",
              "      <th>281</th>\n",
              "      <td>Black Studded Velvet Square Neck Mini Dress</td>\n",
              "      <td>20.00</td>\n",
              "      <td>Have fun with your fashion with your evening attire with our black glitter mini dress. This velvet number features ruching for a feminine take on glamorous dressing. 92% Polyester, 8% Elastane. Machine wash.Model's height is 5'9 and she wears a size 8.</td>\n",
              "      <td>BLACK</td>\n",
              "      <td>[[Size, 2], [Colour, black], [Occasion, evening], [Material, velvet], [Dresses Length,  mini], [Pattern Type,  ], [Care Instructions / Wash Type,  machine wash], [glamorous, No Style subvalue]]</td>\n",
              "    </tr>\n",
              "    <tr>\n",
              "      <th>355</th>\n",
              "      <td>Lace Bodycon Cut Out Mini Dress</td>\n",
              "      <td>10.00</td>\n",
              "      <td>Our long sleeve green all over floral double jersey tea mini dress is such a pretty ditsy design to own. It's all about the botanical beautiful look. 98% Polyester, 2% Elastane. Machine wash.Model's height ranges from 5'2 - 54 and she wears a size 8.</td>\n",
              "      <td>Monochrome</td>\n",
              "      <td>[[Size, 2], [Colour, green], [Material, polyester], [Dresses Length,  mini], [Sleeves Length, long sleeve], [Pattern Type,  ], [Care Instructions / Wash Type,  machine wash], [No Style value]]</td>\n",
              "    </tr>\n",
              "    <tr>\n",
              "      <th>321</th>\n",
              "      <td>**MATERNITY Green Gingham Smock Dress</td>\n",
              "      <td>15.00</td>\n",
              "      <td>Go classic with your dressed up collection and opt for this bold black ribbed ruched jersey midi dress. This ensemble works for an array of occasions, cute with trainers for day or elevated with heels in the evenings. 95% Polyester, 5% Elastane. Machine wash.</td>\n",
              "      <td>GREEN</td>\n",
              "      <td>[[Size, m], [Colour, black], [Occasion,  work], [Material, polyester], [Silhouette, ribbed], [Pattern Type,  ribbed], [Care Instructions / Wash Type,  machine wash], [classic, black]]</td>\n",
              "    </tr>\n",
              "    <tr>\n",
              "      <th>66</th>\n",
              "      <td>Black Crew Neck Knitted Mini Dress</td>\n",
              "      <td>35.99</td>\n",
              "      <td>Denim enthusiasts, this tiered denim mini dress is one stylish piece to own. Designed with frill detailing for a feminine take, this ensemble adds ladylike charm. We are featuring a fashion-forward borg bag to accessorise the look to the next level and add some trending texture to the mix. Contains organic cotton, which is grown without the use of chemical fertilisers, pesticides and Genetically Modified Organisms (GMOs) and has a lower impact on the environment. 50% Cotton Organic, 50% Cott...</td>\n",
              "      <td>BLACK</td>\n",
              "      <td>[[Size, 0], [Colour, denim], [Material,  organic cotton], [Silhouette,  tiered], [Dresses Length,  mini], [Pattern Type,  ], [Care Instructions / Wash Type,  machine wash], [No Style value]]</td>\n",
              "    </tr>\n",
              "    <tr>\n",
              "      <th>21</th>\n",
              "      <td>Ruched Sleeve Jersey Flippy Mini Dress</td>\n",
              "      <td>18.19</td>\n",
              "      <td>This green wrap shirt dress is one of our premium styles, looking endlessly effortless yet highly impactful. Transform your wardrobe with this wonderful ensemble, elevating any edit in pure Topshop style. 100% Polyester. Machine wash.Model's height is 5'9 and she wears a size 8.</td>\n",
              "      <td>MULTI</td>\n",
              "      <td>[[Size, 0], [Colour, green], [Material,  pu], [Silhouette, shirt dress], [Pattern Type,  ], [Care Instructions / Wash Type,  machine wash], [No Style value]]</td>\n",
              "    </tr>\n",
              "    <tr>\n",
              "      <th>416</th>\n",
              "      <td>PETITE Neon Lime Green Sequin Slip Dress</td>\n",
              "      <td>18.00</td>\n",
              "      <td>Get inspired by the festival world with our fashionable TPU dress. Designed in orange for a bright take on the trend. 50% Metal, 50% PVC.Model's height is 5'9 and she wears a size 8.</td>\n",
              "      <td>LIME</td>\n",
              "      <td>[[Size, 0], [Colour, orange], [Pattern Type,  ], [No Style value]]</td>\n",
              "    </tr>\n",
              "    <tr>\n",
              "      <th>169</th>\n",
              "      <td>**Kuben Grey Hoodie Dress by Absence of Colour</td>\n",
              "      <td>80.10</td>\n",
              "      <td>LOVE are the fashion brand we justlove. Their clothing is made in the UK and they create desirable designs that have a place in the everyday wardrobe. Youre guaranteed to adore their modern styles, looking fashion-forward time after time.Make a wild statement with this stylish and striking green all over animal print v neck, long sleeve midi wrap dress by LOVE. This will always be trending! 100% Polyester. Machine wash.**PLEASE NOTE THIS ITEM CAN ONLY BE RETURNED VIA POST. STORES ARE UNABLE ...</td>\n",
              "      <td>GREY</td>\n",
              "      <td>[[Size, 0], [Colour, green], [Material, polyester], [Silhouette, wrap dress], [Dresses Length, long], [Sleeves Length, long sleeve], [Pattern Type,  animal print], [Care Instructions / Wash Type,  machine wash], [No Style value]]</td>\n",
              "    </tr>\n",
              "    <tr>\n",
              "      <th>175</th>\n",
              "      <td>**Cream Polka Dot Tiered Dress by Lace &amp; Beads</td>\n",
              "      <td>58.50</td>\n",
              "      <td>Lace &amp; Beads is the innovative fashion brand to create majestic looks that transform your style for an occasion. Discovered in central London in 1976, their designs sculpt the figure and are also inspired by trends. They take pride in intricate hand embellishments, showing detailed workmanship with elegant silhouettes.Shine bright and beautiful in this gorgeous and glittering silver embellished high neck mini dress with open back detailing. This piece is sure to be suitable for any party or ...</td>\n",
              "      <td>Cream</td>\n",
              "      <td>[[Size, 6], [Colour, silver], [Occasion,  work], [Material, polyester], [Dresses Length,  mini], [Collar-line,  high neck], [Pattern Type,  ], [Care Instructions / Wash Type,  hand wash], [No Style value]]</td>\n",
              "    </tr>\n",
              "    <tr>\n",
              "      <th>182</th>\n",
              "      <td>**Black Printed Mesh Dress by Lace &amp; Beads</td>\n",
              "      <td>40.50</td>\n",
              "      <td>Lace &amp; Beads is the innovative fashion brand to create majestic looks that transform your style for an occasion. Discovered in central London in 1976, their designs sculpt the figure and are also inspired by trends. They take pride in intricate hand embellishments, showing detailed workmanship with elegant silhouettes.This red pleated tulle dress is a lovely style by Lace &amp; Beads. Look stunning in this statement ensemble with a bold take on dressing! 100% Polyester. Hand wash only.**Please n...</td>\n",
              "      <td>BLACK</td>\n",
              "      <td>[[Size, 6], [Colour, red], [Occasion,  work], [Material,  lace], [Silhouette, pleated], [Pattern Type,  lace], [Care Instructions / Wash Type,  hand wash], [No Style value]]</td>\n",
              "    </tr>\n",
              "    <tr>\n",
              "      <th>264</th>\n",
              "      <td>TALL Mid Blue Denim Babydoll Zip Mini Dress</td>\n",
              "      <td>20.00</td>\n",
              "      <td>This autumn winter, florals get a grunge update. This V front midi dress is designed with two front splits for a feminine interpretation to a style staple. 100% Polyester. Machine wash.Model's height is 5'9 and she wears a size 8.</td>\n",
              "      <td>MID STONE</td>\n",
              "      <td>[[Size, 0], [Material, polyester], [Silhouette, split], [Pattern Type,  ], [Season, winter], [Care Instructions / Wash Type,  machine wash], [grunge, No Style subvalue]]</td>\n",
              "    </tr>\n",
              "    <tr>\n",
              "      <th>132</th>\n",
              "      <td>PETITE Khaki Collared Mini Dress</td>\n",
              "      <td>26.99</td>\n",
              "      <td>Our latest blush pink all over cherub print square neck mini dress is inspired by 90s dressing. Tap into two trends in one for a look you can't wait to wear. Go bold this season with your ensembles for full impact! We are adding a chic little black bag with feather trim to the mix. 95% Polyester,5% Elastane. Machine washable.</td>\n",
              "      <td>KHAKI</td>\n",
              "      <td>[[Size, 0], [Colour, black], [Material,  feather], [Dresses Length,  mini], [Collar-line,  square neck], [Pattern Type,  ], [Care Instructions / Wash Type,  machine wash], [chic, No Style subvalue]]</td>\n",
              "    </tr>\n",
              "    <tr>\n",
              "      <th>258</th>\n",
              "      <td>Blue Ditsy Midi Full Sleeve Prairie Midi Dress</td>\n",
              "      <td>25.00</td>\n",
              "      <td>Inspired by the Fashion Editor silhouette, this black puff sleeve midi dress is a true timeless beauty. This ensemble has exaggerated detail for a forever-stylish look. 100% Polyester. Machine wash.Model's height ranges from 5'10 - 511 and she wears a size 8.</td>\n",
              "      <td>BLUE</td>\n",
              "      <td>[[Size, 0], [Colour, black], [Material,  pu], [Pattern Type,  ], [Care Instructions / Wash Type,  machine wash], [Sleeve Style, puff sleeve], [No Style value]]</td>\n",
              "    </tr>\n",
              "    <tr>\n",
              "      <th>302</th>\n",
              "      <td>PETITE Black Lace Stretch Tie Mini Dress</td>\n",
              "      <td>25.00</td>\n",
              "      <td>Embrace the wild world of all over animal with our fashionable printed pink mini slip. This dress is detailed by romantic ruffles for that trending appearance that ticks all the style boxes. 100% Polyester. Machine wash.Model's height ranges from 5'2 - 54 and she wears a size 8.</td>\n",
              "      <td>BLACK</td>\n",
              "      <td>[[Size, 0], [Colour, pear], [Material, polyester], [Silhouette, slip], [Dresses Length,  mini], [Pattern Type,  ], [Care Instructions / Wash Type,  machine wash], [No Style value]]</td>\n",
              "    </tr>\n",
              "    <tr>\n",
              "      <th>176</th>\n",
              "      <td>**Silver Sequin High Neck Mini Dress by Lace &amp; Beads</td>\n",
              "      <td>121.50</td>\n",
              "      <td>Lace &amp; Beads is the innovative fashion brand to create majestic looks that transform your style for an occasion. Discovered in central London in 1976, their designs sculpt the figure and are also inspired by trends. They take pride in intricate hand embellishments, showing detailed workmanship with elegant silhouettes.This bold black bardot ruffle detailed dress adds a feminine style to your wardrobe. This design is made by Lace &amp; Beads, a brand we will forever love. 100% Polyester. Hand was...</td>\n",
              "      <td>White</td>\n",
              "      <td>[[Size, 6], [Colour, black], [Occasion,  work], [Material,  lace], [Silhouette,  bardot], [Pattern Type,  lace], [Care Instructions / Wash Type,  hand wash], [No Style value]]</td>\n",
              "    </tr>\n",
              "    <tr>\n",
              "      <th>327</th>\n",
              "      <td>PETITE Black PU Elastic Neck Dress</td>\n",
              "      <td>25.00</td>\n",
              "      <td>If you are a lover of all things animal print then this stylish sleeve detail midi with double slit detailing is the perfect dress for you this season. Bold with a powerful printed aesthetic, this ensemble is both chic and contemporary. 100% Polyester. Machine wash.Model's height ranges from 5'10 - 511 and she wears a size 8.</td>\n",
              "      <td>BLACK</td>\n",
              "      <td>[[Size, 0], [Colour, sea], [Material, polyester], [Pattern Type,  animal print], [Care Instructions / Wash Type,  machine wash], [chic, No Style subvalue]]</td>\n",
              "    </tr>\n",
              "    <tr>\n",
              "      <th>124</th>\n",
              "      <td>Black Oversized Knitted Jumper Mini Dress</td>\n",
              "      <td>31.99</td>\n",
              "      <td>Our washed black seam shirt dress nails the smart casual dress code this season. It's all about easy-to-wear shapes and silhouettes. 98% Cotton, 2% Elastane. Machine wash.Model's height is 5'9 and she wears a size 8.</td>\n",
              "      <td>BLACK</td>\n",
              "      <td>[[Size, 2], [Colour, black], [Occasion, casual], [Material, cotton], [Silhouette, shirt dress], [Pattern Type,  ], [Care Instructions / Wash Type,  machine wash], [No Style value]]</td>\n",
              "    </tr>\n",
              "    <tr>\n",
              "      <th>328</th>\n",
              "      <td>TALL Animal Sleeve Detail Midi Dress</td>\n",
              "      <td>15.00</td>\n",
              "      <td>Our burgundy PU elastic neck mini dress is perfect for creating that elevated leather look. High impact and high volume, this ensemble is sure to make you stand out in stylish fashion this season. 100% Polyurethane. Machine wash.Model's height ranges from 5'2 - 54 and she wears a size 8.</td>\n",
              "      <td>BROWN</td>\n",
              "      <td>[[Size, 0], [Colour, burgundy], [Material,  leather], [Dresses Length,  mini], [Pattern Type,  ], [Care Instructions / Wash Type,  machine wash], [No Style value]]</td>\n",
              "    </tr>\n",
              "    <tr>\n",
              "      <th>361</th>\n",
              "      <td>Black Technical Mini Shirt Dress</td>\n",
              "      <td>15.00</td>\n",
              "      <td>Our pretty pink all over floral print ruched style mini dress embraces feminine dressing this summer for an absolutely lovely look. We are loving the stylish interpretation to the trend. 100% Cotton. Machine wash.</td>\n",
              "      <td>BLACK</td>\n",
              "      <td>[[Size, 0], [Colour, pink], [Material, 100% cotton], [Dresses Length,  mini], [Pattern Type,  floral print], [Season, summer], [Care Instructions / Wash Type,  machine wash], [No Style value]]</td>\n",
              "    </tr>\n",
              "    <tr>\n",
              "      <th>196</th>\n",
              "      <td>**Black One Shoulder Ruched Maxi Dress by Club L</td>\n",
              "      <td>49.50</td>\n",
              "      <td>Made in 2007, Club L London has been the place for red carpet inspired glamour. Designed for the fashionista who loves to sparkle and shine through their figure flattering and statement designs. Look iconic with their confident-creating pieces that are special to wear. Manufactured in house in the UK and abroad, join the Club for a forever-feminine and fashionable feel.Look stylish with our latest mauve knot front midi deep plunge dress. 95% Polyester, 5% Elastane. Machine wash.**PLEASE NOTE...</td>\n",
              "      <td>BLACK</td>\n",
              "      <td>[[Size, 0], [Colour, mauve], [Occasion,  club], [Material, polyester], [Pattern Type,  ], [Care Instructions / Wash Type,  machine wash], [No Style value]]</td>\n",
              "    </tr>\n",
              "    <tr>\n",
              "      <th>395</th>\n",
              "      <td>PETITE Powder Blue Gathered Bust Slip Dress</td>\n",
              "      <td>12.00</td>\n",
              "      <td>Look your beautiful best in our black bardot mini dress. With a falling taffeta fabrication and a stylish slit detailing, this is the ultimate feminine dress. This outfit contains fashionable charm that will not go unnoticed, whether day or elevated evening. If you choose sandals or heels, you are guaranteed a gorgeous appeal. 100% Polyester. Machine wash.Model's height is 5'9 and she wears a size 8.</td>\n",
              "      <td>Blue</td>\n",
              "      <td>[[Size, 0], [Colour, black], [Occasion,  day], [Material, polyester], [Silhouette,  bardot], [Dresses Length,  mini], [Pattern Type,  ], [Season, fall], [Care Instructions / Wash Type,  machine wash], [No Style value]]</td>\n",
              "    </tr>\n",
              "    <tr>\n",
              "      <th>28</th>\n",
              "      <td>Black and White Blurred Spot Wrap Mini Dress</td>\n",
              "      <td>23.39</td>\n",
              "      <td>For effortless dressing, opt for this go-to grey wrap ruched mini dress. This ensemble is sure to create a flattering yet modern fashionable approach to looking your best self. 79% Polyester,17% Viscose,4% Elastane. Machine washable.Model's height is 5'9 and she wears a size 8.</td>\n",
              "      <td>Monochrome</td>\n",
              "      <td>[[Size, m], [Colour, tan], [Material, polyester], [Dresses Length,  mini], [Pattern Type,  ], [Care Instructions / Wash Type,  machine wash], [No Style value]]</td>\n",
              "    </tr>\n",
              "    <tr>\n",
              "      <th>119</th>\n",
              "      <td>Camel Plaited Funnel Neck Knitted Jumper Mini Dress</td>\n",
              "      <td>31.99</td>\n",
              "      <td>Love your layered look with our black plaited funnel neck knitted mini jumper dress. This approaches knitwear in dressed up fashion, nailing cosy and chic appeal. 79% Acrylic, 19% Polyester, 2% Elastane. Machine wash.Model's height is 5'9 and she wears a size 8.</td>\n",
              "      <td>CAMEL</td>\n",
              "      <td>[[Size, 2], [Colour, black], [Material, acrylic], [Silhouette, layered], [Dresses Length,  mini], [Collar-line,  funnel neck], [Pattern Type,  ], [Care Instructions / Wash Type,  machine wash], [chic, No Style subvalue]]</td>\n",
              "    </tr>\n",
              "  </tbody>\n",
              "</table>\n",
              "</div>"
            ],
            "text/plain": [
              "                                                         Name  ...                                                                                                                                                                                                                         Attr segmented\n",
              "313           Black Ruched Sleeve Floral Print Mini Tea Dress  ...                                  [[Size, m], [Colour, tan], [Material, polyester], [Silhouette, slip], [Dresses Length,  mini], [Pattern Type,  ], [Care Instructions / Wash Type,  machine wash], [Body Fit, tall], [No Style value]]\n",
              "399                              Ecru Floral Poplin Tea Dress  ...                            [[Size, 2], [Colour, tan], [Occasion,  day], [Material, jersey], [Dresses Length,  mini], [Collar-line,  square neck], [Pattern Type,  ], [Care Instructions / Wash Type,  machine wash], [No Style value]]\n",
              "209                     Khaki Velvet Hooded Hoodie Mini Dress  ...                                                                             [[Size, m], [Colour, black], [Occasion,  day], [Material, polyester], [Pattern Type,  ], [Care Instructions / Wash Type,  machine wash], [No Style value]]\n",
              "109  Premium Leisure Black and White Tie Dye Sweatshirt Dress  ...           [[Size, m], [Colour, black], [Material,  leather], [Dresses Length,  mini], [Collar-line,  square neck], [Sleeves Length, long sleeve], [Pattern Type,  ], [Care Instructions / Wash Type,  machine wash], [No Style value]]\n",
              "152  **MATERNITY Black Oversized Roll Neck Knitted Mini Dress  ...                                       [[Size, 0], [Colour, apple green], [Occasion,  day], [Material, 100% cotton], [Pattern Type,  ], [Season, summer], [Care Instructions / Wash Type,  machine wash], [classic, No Style subvalue]]\n",
              "292                        Denim Puff Sleeve Mini Shirt Dress  ...                                                                          [[Size, 0], [Colour, black], [Material, polyester], [Silhouette, split], [Pattern Type,  ], [Care Instructions / Wash Type,  machine wash], [No Style value]]\n",
              "39                        Black Denim Tiered Mini Shirt Dress  ...                                                  [[Size, 0], [Colour, pink], [Occasion, evening], [Material, polyester], [Dresses Length,  mini], [Pattern Type,  ], [Care Instructions / Wash Type,  machine wash], [No Style value]]\n",
              "81                                    Black Ribbed Mini Dress  ...                                                                                       [[Size, 0], [Colour, black], [Material, polyester], [Pattern Type,  textured], [Care Instructions / Wash Type,  machine wash], [No Style value]]\n",
              "281               Black Studded Velvet Square Neck Mini Dress  ...                                      [[Size, 2], [Colour, black], [Occasion, evening], [Material, velvet], [Dresses Length,  mini], [Pattern Type,  ], [Care Instructions / Wash Type,  machine wash], [glamorous, No Style subvalue]]\n",
              "355                           Lace Bodycon Cut Out Mini Dress  ...                                       [[Size, 2], [Colour, green], [Material, polyester], [Dresses Length,  mini], [Sleeves Length, long sleeve], [Pattern Type,  ], [Care Instructions / Wash Type,  machine wash], [No Style value]]\n",
              "321                     **MATERNITY Green Gingham Smock Dress  ...                                                [[Size, m], [Colour, black], [Occasion,  work], [Material, polyester], [Silhouette, ribbed], [Pattern Type,  ribbed], [Care Instructions / Wash Type,  machine wash], [classic, black]]\n",
              "66                         Black Crew Neck Knitted Mini Dress  ...                                         [[Size, 0], [Colour, denim], [Material,  organic cotton], [Silhouette,  tiered], [Dresses Length,  mini], [Pattern Type,  ], [Care Instructions / Wash Type,  machine wash], [No Style value]]\n",
              "21                     Ruched Sleeve Jersey Flippy Mini Dress  ...                                                                          [[Size, 0], [Colour, green], [Material,  pu], [Silhouette, shirt dress], [Pattern Type,  ], [Care Instructions / Wash Type,  machine wash], [No Style value]]\n",
              "416                  PETITE Neon Lime Green Sequin Slip Dress  ...                                                                                                                                                                     [[Size, 0], [Colour, orange], [Pattern Type,  ], [No Style value]]\n",
              "169            **Kuben Grey Hoodie Dress by Absence of Colour  ...  [[Size, 0], [Colour, green], [Material, polyester], [Silhouette, wrap dress], [Dresses Length, long], [Sleeves Length, long sleeve], [Pattern Type,  animal print], [Care Instructions / Wash Type,  machine wash], [No Style value]]\n",
              "175            **Cream Polka Dot Tiered Dress by Lace & Beads  ...                          [[Size, 6], [Colour, silver], [Occasion,  work], [Material, polyester], [Dresses Length,  mini], [Collar-line,  high neck], [Pattern Type,  ], [Care Instructions / Wash Type,  hand wash], [No Style value]]\n",
              "182                **Black Printed Mesh Dress by Lace & Beads  ...                                                          [[Size, 6], [Colour, red], [Occasion,  work], [Material,  lace], [Silhouette, pleated], [Pattern Type,  lace], [Care Instructions / Wash Type,  hand wash], [No Style value]]\n",
              "264               TALL Mid Blue Denim Babydoll Zip Mini Dress  ...                                                              [[Size, 0], [Material, polyester], [Silhouette, split], [Pattern Type,  ], [Season, winter], [Care Instructions / Wash Type,  machine wash], [grunge, No Style subvalue]]\n",
              "132                          PETITE Khaki Collared Mini Dress  ...                                 [[Size, 0], [Colour, black], [Material,  feather], [Dresses Length,  mini], [Collar-line,  square neck], [Pattern Type,  ], [Care Instructions / Wash Type,  machine wash], [chic, No Style subvalue]]\n",
              "258            Blue Ditsy Midi Full Sleeve Prairie Midi Dress  ...                                                                        [[Size, 0], [Colour, black], [Material,  pu], [Pattern Type,  ], [Care Instructions / Wash Type,  machine wash], [Sleeve Style, puff sleeve], [No Style value]]\n",
              "302                  PETITE Black Lace Stretch Tie Mini Dress  ...                                                   [[Size, 0], [Colour, pear], [Material, polyester], [Silhouette, slip], [Dresses Length,  mini], [Pattern Type,  ], [Care Instructions / Wash Type,  machine wash], [No Style value]]\n",
              "176      **Silver Sequin High Neck Mini Dress by Lace & Beads  ...                                                        [[Size, 6], [Colour, black], [Occasion,  work], [Material,  lace], [Silhouette,  bardot], [Pattern Type,  lace], [Care Instructions / Wash Type,  hand wash], [No Style value]]\n",
              "327                        PETITE Black PU Elastic Neck Dress  ...                                                                            [[Size, 0], [Colour, sea], [Material, polyester], [Pattern Type,  animal print], [Care Instructions / Wash Type,  machine wash], [chic, No Style subvalue]]\n",
              "124                 Black Oversized Knitted Jumper Mini Dress  ...                                                   [[Size, 2], [Colour, black], [Occasion, casual], [Material, cotton], [Silhouette, shirt dress], [Pattern Type,  ], [Care Instructions / Wash Type,  machine wash], [No Style value]]\n",
              "328                      TALL Animal Sleeve Detail Midi Dress  ...                                                                    [[Size, 0], [Colour, burgundy], [Material,  leather], [Dresses Length,  mini], [Pattern Type,  ], [Care Instructions / Wash Type,  machine wash], [No Style value]]\n",
              "361                          Black Technical Mini Shirt Dress  ...                                       [[Size, 0], [Colour, pink], [Material, 100% cotton], [Dresses Length,  mini], [Pattern Type,  floral print], [Season, summer], [Care Instructions / Wash Type,  machine wash], [No Style value]]\n",
              "196          **Black One Shoulder Ruched Maxi Dress by Club L  ...                                                                            [[Size, 0], [Colour, mauve], [Occasion,  club], [Material, polyester], [Pattern Type,  ], [Care Instructions / Wash Type,  machine wash], [No Style value]]\n",
              "395               PETITE Powder Blue Gathered Bust Slip Dress  ...             [[Size, 0], [Colour, black], [Occasion,  day], [Material, polyester], [Silhouette,  bardot], [Dresses Length,  mini], [Pattern Type,  ], [Season, fall], [Care Instructions / Wash Type,  machine wash], [No Style value]]\n",
              "28               Black and White Blurred Spot Wrap Mini Dress  ...                                                                        [[Size, m], [Colour, tan], [Material, polyester], [Dresses Length,  mini], [Pattern Type,  ], [Care Instructions / Wash Type,  machine wash], [No Style value]]\n",
              "119       Camel Plaited Funnel Neck Knitted Jumper Mini Dress  ...           [[Size, 2], [Colour, black], [Material, acrylic], [Silhouette, layered], [Dresses Length,  mini], [Collar-line,  funnel neck], [Pattern Type,  ], [Care Instructions / Wash Type,  machine wash], [chic, No Style subvalue]]\n",
              "\n",
              "[30 rows x 5 columns]"
            ]
          },
          "metadata": {
            "tags": []
          },
          "execution_count": 81
        }
      ]
    },
    {
      "cell_type": "code",
      "metadata": {
        "id": "nh-UeKAuiqKH"
      },
      "source": [
        "topshop_sample2 = topshop_sample[['Description', 'Attr segmented']]\n",
        "topshop_sample2.to_excel('String matching updated attr dict output.xlsx', index = False)"
      ],
      "execution_count": null,
      "outputs": []
    },
    {
      "cell_type": "code",
      "metadata": {
        "id": "q3dKIxKzaGmD"
      },
      "source": [
        "topshop_ans2 = topshop_sample[['Description', 'Attr segmented']]\n",
        "pd.set_option('display.max_colwidth', 500)\n",
        "topshop_ans2.to_excel('Attr Segmented - String Matching.xlsx', index = False)"
      ],
      "execution_count": null,
      "outputs": []
    },
    {
      "cell_type": "markdown",
      "metadata": {
        "id": "4zWnACnzaKZD"
      },
      "source": [
        "# SparkNLP experiment"
      ]
    },
    {
      "cell_type": "code",
      "metadata": {
        "colab": {
          "base_uri": "https://localhost:8080/"
        },
        "id": "xh-w_xG7tcc5",
        "outputId": "e5cf270e-8e63-4456-b326-fa446e2cd64b"
      },
      "source": [
        "MODEL_NAME='dependency_typed_conllu'\n",
        "\n",
        "documentAssembler = DocumentAssembler().setInputCol(\"text\").setOutputCol(\"document\")\n",
        "tokenizer = Tokenizer().setInputCols([\"document\"]).setOutputCol(\"token\")\n",
        "pos = PerceptronModel.pretrained(\"pos_anc\", 'en').setInputCols(\"document\", \"token\").setOutputCol(\"pos\")\n",
        "dep_parser = DependencyParserModel.pretrained('dependency_conllu').setInputCols([\"document\", \"pos\", \"token\"]).setOutputCol(\"dependency\")\n",
        "typed_dep_parser = TypedDependencyParserModel.pretrained('dependency_typed_conllu').setInputCols([\"token\", \"pos\", \"dependency\"]).setOutputCol(\"dependency_type\")\n",
        "nlpPipeline = Pipeline(stages = [documentAssembler, tokenizer, pos, dep_parser, typed_dep_parser])"
      ],
      "execution_count": null,
      "outputs": [
        {
          "output_type": "stream",
          "text": [
            "pos_anc download started this may take some time.\n",
            "Approximate size to download 4.3 MB\n",
            "[OK!]\n",
            "dependency_conllu download started this may take some time.\n",
            "Approximate size to download 16.6 MB\n",
            "[OK!]\n",
            "dependency_typed_conllu download started this may take some time.\n",
            "Approximate size to download 257.4 KB\n",
            "[OK!]\n"
          ],
          "name": "stdout"
        }
      ]
    },
    {
      "cell_type": "code",
      "metadata": {
        "colab": {
          "base_uri": "https://localhost:8080/",
          "height": 66,
          "referenced_widgets": [
            "7fc85abe9ad24d17bd9a0b4fa76afe9d",
            "23dddaeadc304899939792e8df736d05",
            "4a70e38b575e4f8ca372b562eb829d79",
            "5e28d2356deb42c9805450e11cc40f34",
            "ed30b149c897437da3dceaaaf2545b9d",
            "293b1eef52084f29b25707f56ae46668",
            "add3aeb06ca143eba80db61e2c1332cd",
            "87731d6081a545a19a0303d9b8217a9d"
          ]
        },
        "id": "ANoOHC-nu-Lf",
        "outputId": "5dba0dc0-d556-42fe-d8fb-336aa264fbef"
      },
      "source": [
        "from tqdm.notebook import tqdm\n",
        "list_all_df = []\n",
        "for text in tqdm(list(sample_desc['Product Description'])):\n",
        "  empty_df = spark.createDataFrame([['']]).toDF(\"text\")\n",
        "  pipelineModel = nlpPipeline.fit(empty_df)\n",
        "  df = spark.createDataFrame(pd.DataFrame({\"text\":[text]}))\n",
        "  result = pipelineModel.transform(df)\n",
        "  result_pd = result.select(F.explode(F.arrays_zip('token.result',\n",
        "                                     'token.begin',\n",
        "                                     'token.end', \n",
        "                                     'pos.result', \n",
        "                                     'dependency.result', \n",
        "                                                  'dependency.metadata',\n",
        "                                                  'dependency_type.result')).alias(\"cols\"))\\\n",
        "                                                  .select(F.expr(\"cols['0']\").alias(\"chunk\"),\n",
        "                                                          F.expr(\"cols['1']\").alias(\"begin\"),\n",
        "                                                          F.expr(\"cols['2']\").alias(\"end\"),\n",
        "                                                          F.expr(\"cols['3']\").alias(\"pos\"),\n",
        "                                                          F.expr(\"cols['4']\").alias(\"dependency\"),\n",
        "                                                          F.expr(\"cols['5']\").alias(\"dependency_start\"),\n",
        "                                                          F.expr(\"cols['6']\").alias(\"dependency_type\")).toPandas()\n",
        "  result_pd = result_pd[['chunk', 'pos', 'dependency_type']]\n",
        "  result_pd['Description'] = text\n",
        "  list_all_df.append(result_pd)"
      ],
      "execution_count": null,
      "outputs": [
        {
          "output_type": "display_data",
          "data": {
            "application/vnd.jupyter.widget-view+json": {
              "model_id": "7fc85abe9ad24d17bd9a0b4fa76afe9d",
              "version_minor": 0,
              "version_major": 2
            },
            "text/plain": [
              "HBox(children=(FloatProgress(value=0.0, max=10.0), HTML(value='')))"
            ]
          },
          "metadata": {
            "tags": []
          }
        },
        {
          "output_type": "stream",
          "text": [
            "\n"
          ],
          "name": "stdout"
        }
      ]
    },
    {
      "cell_type": "code",
      "metadata": {
        "id": "dEyIYer3X-s9"
      },
      "source": [
        "all_df = pd.concat(list_all_df)\n",
        "joined = pd.merge(all_df, sample_desc, how = 'left', left_on = 'Description', right_on = 'Product Description').drop('Description', axis = 1)"
      ],
      "execution_count": null,
      "outputs": []
    },
    {
      "cell_type": "code",
      "metadata": {
        "colab": {
          "base_uri": "https://localhost:8080/",
          "height": 167
        },
        "id": "i_-6Km8CUA7P",
        "outputId": "60072bb4-6a70-404f-b544-5f5534c33185"
      },
      "source": [
        "joined[joined['chunk'].isin('exaggerated sleeve'.split())]"
      ],
      "execution_count": null,
      "outputs": [
        {
          "output_type": "execute_result",
          "data": {
            "text/html": [
              "<div>\n",
              "<style scoped>\n",
              "    .dataframe tbody tr th:only-of-type {\n",
              "        vertical-align: middle;\n",
              "    }\n",
              "\n",
              "    .dataframe tbody tr th {\n",
              "        vertical-align: top;\n",
              "    }\n",
              "\n",
              "    .dataframe thead th {\n",
              "        text-align: right;\n",
              "    }\n",
              "</style>\n",
              "<table border=\"1\" class=\"dataframe\">\n",
              "  <thead>\n",
              "    <tr style=\"text-align: right;\">\n",
              "      <th></th>\n",
              "      <th>chunk</th>\n",
              "      <th>pos</th>\n",
              "      <th>dependency_type</th>\n",
              "      <th>Product Description</th>\n",
              "      <th>Relevant keywords/key phrases</th>\n",
              "      <th>Unnamed: 2</th>\n",
              "    </tr>\n",
              "  </thead>\n",
              "  <tbody>\n",
              "    <tr>\n",
              "      <th>188</th>\n",
              "      <td>sleeve</td>\n",
              "      <td>NN</td>\n",
              "      <td>&lt;no-type&gt;</td>\n",
              "      <td>Do you want to show off a pretty floral print ...</td>\n",
              "      <td>floral print', 'three-quarter sleeve', 'v-neck...</td>\n",
              "      <td>Floral Print,bright colours, three-quarter sle...</td>\n",
              "    </tr>\n",
              "    <tr>\n",
              "      <th>237</th>\n",
              "      <td>sleeve</td>\n",
              "      <td>NN</td>\n",
              "      <td>flat</td>\n",
              "      <td>Bet on the contrast of colours! A big matching...</td>\n",
              "      <td>contrast of colours', 'big matching floral man...</td>\n",
              "      <td>Floral mandala, colourful, boho,friezesl, ochr...</td>\n",
              "    </tr>\n",
              "    <tr>\n",
              "      <th>469</th>\n",
              "      <td>exaggerated</td>\n",
              "      <td>JJ</td>\n",
              "      <td>&lt;no-type&gt;</td>\n",
              "      <td>Add some drama to the mix with this exaggerate...</td>\n",
              "      <td>exaggerated sleeve', 'poplin cotton', 'durable...</td>\n",
              "      <td>drama,exaggerated sleeve,dress,ensemble,poplin...</td>\n",
              "    </tr>\n",
              "    <tr>\n",
              "      <th>470</th>\n",
              "      <td>sleeve</td>\n",
              "      <td>NN</td>\n",
              "      <td>&lt;no-type&gt;</td>\n",
              "      <td>Add some drama to the mix with this exaggerate...</td>\n",
              "      <td>exaggerated sleeve', 'poplin cotton', 'durable...</td>\n",
              "      <td>drama,exaggerated sleeve,dress,ensemble,poplin...</td>\n",
              "    </tr>\n",
              "  </tbody>\n",
              "</table>\n",
              "</div>"
            ],
            "text/plain": [
              "           chunk  ...                                         Unnamed: 2\n",
              "188       sleeve  ...  Floral Print,bright colours, three-quarter sle...\n",
              "237       sleeve  ...  Floral mandala, colourful, boho,friezesl, ochr...\n",
              "469  exaggerated  ...  drama,exaggerated sleeve,dress,ensemble,poplin...\n",
              "470       sleeve  ...  drama,exaggerated sleeve,dress,ensemble,poplin...\n",
              "\n",
              "[4 rows x 6 columns]"
            ]
          },
          "metadata": {
            "tags": []
          },
          "execution_count": 7
        }
      ]
    },
    {
      "cell_type": "code",
      "metadata": {
        "colab": {
          "base_uri": "https://localhost:8080/"
        },
        "id": "o4VOVOizZCq5",
        "outputId": "8bb47ab6-e13b-4d02-d6aa-e70310686592"
      },
      "source": [
        "temp_words = [i.replace(\"'\", '') for i in list(set(list(joined['Relevant keywords/key phrases'])))]\n",
        "temp2 = [j for i in temp_words for j in i.split()]\n",
        "\n",
        "joined_list = []\n",
        "for i in temp2:\n",
        "  temp_df = joined[joined['chunk'].isin('')]\n",
        "\n",
        "joined2.shape"
      ],
      "execution_count": null,
      "outputs": [
        {
          "output_type": "execute_result",
          "data": {
            "text/plain": [
              "(214, 6)"
            ]
          },
          "metadata": {
            "tags": []
          },
          "execution_count": 8
        }
      ]
    },
    {
      "cell_type": "code",
      "metadata": {
        "colab": {
          "base_uri": "https://localhost:8080/"
        },
        "id": "Qx3E5TareFRZ",
        "outputId": "a549cdce-4866-4d46-b669-dad0ae200998"
      },
      "source": [
        "joined2['pos'].value_counts()"
      ],
      "execution_count": null,
      "outputs": [
        {
          "output_type": "execute_result",
          "data": {
            "text/plain": [
              "NN      95\n",
              "JJ      46\n",
              "DT      18\n",
              "NNS     14\n",
              "IN      12\n",
              "PRP$    11\n",
              "VB       5\n",
              "CD       5\n",
              "RB       3\n",
              "VBG      3\n",
              "VBN      2\n",
              "Name: pos, dtype: int64"
            ]
          },
          "metadata": {
            "tags": []
          },
          "execution_count": 10
        }
      ]
    },
    {
      "cell_type": "code",
      "metadata": {
        "id": "uG5khpc7gIwX"
      },
      "source": [
        "Love your look, whatever season with this midi dress. This green ensemble is designed with sleeve detailing for a fashion-forward spin on dressing up. 100% Polyester. Machine wash.Model's height is 5'9 and she wears a size 8."
      ],
      "execution_count": null,
      "outputs": []
    },
    {
      "cell_type": "markdown",
      "metadata": {
        "id": "-eLksoHi5YwU"
      },
      "source": [
        "# Stanza - 10 sample descriptions"
      ]
    },
    {
      "cell_type": "code",
      "metadata": {
        "id": "oRBX2uFa2GvA",
        "colab": {
          "base_uri": "https://localhost:8080/"
        },
        "outputId": "c8677b39-5d79-43ec-bef8-f623ca604511"
      },
      "source": [
        "!pip install --quiet stanza\n",
        "import stanza\n",
        "from stanza.models.common.doc import Document\n",
        "\n",
        "stanza.download('en')   # This downloads the English models for the neural pipeline\n",
        "nlp = stanza.Pipeline(lang='en')"
      ],
      "execution_count": null,
      "outputs": [
        {
          "output_type": "stream",
          "text": [
            "\u001b[?25l\r\u001b[K     |█▏                              | 10kB 22.9MB/s eta 0:00:01\r\u001b[K     |██▎                             | 20kB 9.9MB/s eta 0:00:01\r\u001b[K     |███▌                            | 30kB 7.4MB/s eta 0:00:01\r\u001b[K     |████▋                           | 40kB 7.9MB/s eta 0:00:01\r\u001b[K     |█████▉                          | 51kB 4.5MB/s eta 0:00:01\r\u001b[K     |███████                         | 61kB 4.9MB/s eta 0:00:01\r\u001b[K     |████████▏                       | 71kB 5.1MB/s eta 0:00:01\r\u001b[K     |█████████▎                      | 81kB 5.2MB/s eta 0:00:01\r\u001b[K     |██████████▌                     | 92kB 4.9MB/s eta 0:00:01\r\u001b[K     |███████████▋                    | 102kB 4.3MB/s eta 0:00:01\r\u001b[K     |████████████▉                   | 112kB 4.3MB/s eta 0:00:01\r\u001b[K     |██████████████                  | 122kB 4.3MB/s eta 0:00:01\r\u001b[K     |███████████████                 | 133kB 4.3MB/s eta 0:00:01\r\u001b[K     |████████████████▎               | 143kB 4.3MB/s eta 0:00:01\r\u001b[K     |█████████████████▍              | 153kB 4.3MB/s eta 0:00:01\r\u001b[K     |██████████████████▋             | 163kB 4.3MB/s eta 0:00:01\r\u001b[K     |███████████████████▊            | 174kB 4.3MB/s eta 0:00:01\r\u001b[K     |█████████████████████           | 184kB 4.3MB/s eta 0:00:01\r\u001b[K     |██████████████████████          | 194kB 4.3MB/s eta 0:00:01\r\u001b[K     |███████████████████████▎        | 204kB 4.3MB/s eta 0:00:01\r\u001b[K     |████████████████████████▍       | 215kB 4.3MB/s eta 0:00:01\r\u001b[K     |█████████████████████████▋      | 225kB 4.3MB/s eta 0:00:01\r\u001b[K     |██████████████████████████▊     | 235kB 4.3MB/s eta 0:00:01\r\u001b[K     |███████████████████████████▉    | 245kB 4.3MB/s eta 0:00:01\r\u001b[K     |█████████████████████████████   | 256kB 4.3MB/s eta 0:00:01\r\u001b[K     |██████████████████████████████▏ | 266kB 4.3MB/s eta 0:00:01\r\u001b[K     |███████████████████████████████▍| 276kB 4.3MB/s eta 0:00:01\r\u001b[K     |████████████████████████████████| 286kB 4.3MB/s \n",
            "\u001b[?25h"
          ],
          "name": "stdout"
        },
        {
          "output_type": "stream",
          "text": [
            "Downloading https://raw.githubusercontent.com/stanfordnlp/stanza-resources/master/resources_1.2.0.json: 128kB [00:00, 22.2MB/s]                    \n",
            "2021-02-22 05:06:15 INFO: Downloading default packages for language: en (English)...\n",
            "Downloading http://nlp.stanford.edu/software/stanza/1.2.0/en/default.zip: 100%|██████████| 411M/411M [00:14<00:00, 27.8MB/s]\n",
            "2021-02-22 05:06:37 INFO: Finished downloading models and saved to /root/stanza_resources.\n",
            "2021-02-22 05:06:37 INFO: Loading these models for language: en (English):\n",
            "=========================\n",
            "| Processor | Package   |\n",
            "-------------------------\n",
            "| tokenize  | combined  |\n",
            "| pos       | combined  |\n",
            "| lemma     | combined  |\n",
            "| depparse  | combined  |\n",
            "| sentiment | sstplus   |\n",
            "| ner       | ontonotes |\n",
            "=========================\n",
            "\n",
            "2021-02-22 05:06:37 INFO: Use device: cpu\n",
            "2021-02-22 05:06:37 INFO: Loading: tokenize\n",
            "2021-02-22 05:06:37 INFO: Loading: pos\n",
            "2021-02-22 05:06:37 INFO: Loading: lemma\n",
            "2021-02-22 05:06:37 INFO: Loading: depparse\n",
            "2021-02-22 05:06:38 INFO: Loading: sentiment\n",
            "2021-02-22 05:06:38 INFO: Loading: ner\n",
            "2021-02-22 05:06:39 INFO: Done loading processors!\n"
          ],
          "name": "stderr"
        }
      ]
    },
    {
      "cell_type": "code",
      "metadata": {
        "id": "DBKZ0o7lCJZa"
      },
      "source": [
        "doc = nlp(list(sample_desc['Product Description']))\n",
        "#print(*[f'word: {word.text}\\t \\tdeprel: {word.deprel}' for sent in doc.sentences for word in sent.words], sep='\\n')\n",
        "dep_dict = {}\n",
        "for sent in doc.sentences:\n",
        "  for word in sent.words:\n",
        "    dep_dict[word.text] = word.deprel\n",
        "dep_dict"
      ],
      "execution_count": null,
      "outputs": []
    },
    {
      "cell_type": "code",
      "metadata": {
        "id": "wfGGYFNj5eN1"
      },
      "source": [
        "#for text in list(sample_desc['Product Description']):\n",
        "print(sample_desc['Product Description'][5])\n",
        "doc = nlp(sample_desc['Product Description'][5])\n",
        "dep_dict = {}\n",
        "for sent in doc.sentences:\n",
        "  for word in sent.words:\n",
        "    dep_dict[word.text] = word.deprel"
      ],
      "execution_count": null,
      "outputs": []
    },
    {
      "cell_type": "code",
      "metadata": {
        "colab": {
          "base_uri": "https://localhost:8080/",
          "height": 204
        },
        "id": "BySjQ8pUe7IR",
        "outputId": "7dd83dc5-2471-4f49-b268-268698ce6785"
      },
      "source": [
        "#Script to process csv to get dependency tags\n",
        "desc_100 = pd.read_excel('/content/100 descriptions.xlsx')\n",
        "desc_100 = desc_100[['Product Description', 'Keywords/phrases']]\n",
        "\n",
        "def get_dependency_tags(desc, keywords_string):\n",
        "  desc = desc.replace(',', ' ').replace('-', ' ').replace('/', ' ')\n",
        "  doc = nlp(desc.lower())\n",
        "  dep_dict = {}\n",
        "  for sent in doc.sentences:\n",
        "    for word in sent.words:\n",
        "      dep_dict[word.text] = word.deprel\n",
        "  #print(dep_dict)\n",
        "  \n",
        "  key_list = list(dep_dict.keys())\n",
        "  val_list = list(dep_dict.values())\n",
        "\n",
        "  keywords_list = [i.lower().replace(',', ' ').replace('-', ' ').replace('/', ' ') for i in keywords_string.split(', ')]\n",
        "  dep_tags_list = []\n",
        "  for keyword in keywords_list:\n",
        "    if len(keyword.split()) == 1:\n",
        "      dep_tags_list.append( [keyword , dep_dict[keyword]] )\n",
        "    elif len(keyword.split()) == 2:\n",
        "      dep_tags_list.append( [keyword, ' '.join( [dep_dict[keyword.split()[0]], dep_dict[keyword.split()[1]]] )])\n",
        "    elif len(keyword.split()) == 3:\n",
        "      dep_tags_list.append( [keyword, ' '.join( [dep_dict[keyword.split()[0]], dep_dict[keyword.split()[1]], dep_dict[keyword.split()[2]]] )])\n",
        "    elif len(keyword.split()) == 4:\n",
        "      dep_tags_list.append( [keyword, ' '.join( [dep_dict[keyword.split()[0]], dep_dict[keyword.split()[1]], dep_dict[keyword.split()[2]], dep_dict[keyword.split()[3]]] )])\n",
        "  return dep_tags_list\n",
        "\n",
        "desc_100['Dep tags'] = desc_100.apply(lambda row : get_dependency_tags(row['Product Description'], row['Keywords/phrases']), axis = 1)\n",
        "desc_100.head()"
      ],
      "execution_count": null,
      "outputs": [
        {
          "output_type": "execute_result",
          "data": {
            "text/html": [
              "<div>\n",
              "<style scoped>\n",
              "    .dataframe tbody tr th:only-of-type {\n",
              "        vertical-align: middle;\n",
              "    }\n",
              "\n",
              "    .dataframe tbody tr th {\n",
              "        vertical-align: top;\n",
              "    }\n",
              "\n",
              "    .dataframe thead th {\n",
              "        text-align: right;\n",
              "    }\n",
              "</style>\n",
              "<table border=\"1\" class=\"dataframe\">\n",
              "  <thead>\n",
              "    <tr style=\"text-align: right;\">\n",
              "      <th></th>\n",
              "      <th>Product Description</th>\n",
              "      <th>Keywords/phrases</th>\n",
              "      <th>Dep tags</th>\n",
              "    </tr>\n",
              "  </thead>\n",
              "  <tbody>\n",
              "    <tr>\n",
              "      <th>0</th>\n",
              "      <td>This ruched all over floral print mini tea dre...</td>\n",
              "      <td>floral, print, mini, tea, dress, ditsy design,...</td>\n",
              "      <td>[[floral, amod], [print, compound], [mini, com...</td>\n",
              "    </tr>\n",
              "    <tr>\n",
              "      <th>1</th>\n",
              "      <td>Channel a stylish look that always has stateme...</td>\n",
              "      <td>animal printed, midi, dress, jersey number, po...</td>\n",
              "      <td>[[animal printed, compound amod], [midi, compo...</td>\n",
              "    </tr>\n",
              "    <tr>\n",
              "      <th>2</th>\n",
              "      <td>We are a fan of the modern monochrome look, wh...</td>\n",
              "      <td>modern, monochrome, floral, long sleeve, mini,...</td>\n",
              "      <td>[[modern, amod], [monochrome, compound], [flor...</td>\n",
              "    </tr>\n",
              "    <tr>\n",
              "      <th>3</th>\n",
              "      <td>Our green all over animal printed ruched long ...</td>\n",
              "      <td>green, animal printed, long sleeve, mini, dres...</td>\n",
              "      <td>[[green, nsubj], [animal printed, compound amo...</td>\n",
              "    </tr>\n",
              "    <tr>\n",
              "      <th>4</th>\n",
              "      <td>If you are a fan of the animal printed style t...</td>\n",
              "      <td>animal printed style, tiered dress, ensemble, ...</td>\n",
              "      <td>[[animal printed style, compound amod obj], [t...</td>\n",
              "    </tr>\n",
              "  </tbody>\n",
              "</table>\n",
              "</div>"
            ],
            "text/plain": [
              "                                 Product Description  ...                                           Dep tags\n",
              "0  This ruched all over floral print mini tea dre...  ...  [[floral, amod], [print, compound], [mini, com...\n",
              "1  Channel a stylish look that always has stateme...  ...  [[animal printed, compound amod], [midi, compo...\n",
              "2  We are a fan of the modern monochrome look, wh...  ...  [[modern, amod], [monochrome, compound], [flor...\n",
              "3  Our green all over animal printed ruched long ...  ...  [[green, nsubj], [animal printed, compound amo...\n",
              "4  If you are a fan of the animal printed style t...  ...  [[animal printed style, compound amod obj], [t...\n",
              "\n",
              "[5 rows x 3 columns]"
            ]
          },
          "metadata": {
            "tags": []
          },
          "execution_count": 16
        }
      ]
    },
    {
      "cell_type": "code",
      "metadata": {
        "id": "GhkvMUeHkg1Q"
      },
      "source": [
        "desc_100.to_csv('100 sample desc with dependency tags.csv', index = False)"
      ],
      "execution_count": null,
      "outputs": []
    },
    {
      "cell_type": "code",
      "metadata": {
        "id": "q6BvaOqI-Osm"
      },
      "source": [
        "#Counting patterns\n",
        "pattern_dict = {}\n",
        "for i in list(desc_100['Dep tags']):\n",
        "  for sublist in i:\n",
        "    if sublist[1] in pattern_dict.keys():\n",
        "      pattern_dict[sublist[1]] += 1\n",
        "    else:\n",
        "      pattern_dict[sublist[1]] = 1\n",
        "pattern_count_df = pd.DataFrame(zip(pattern_dict.keys(), pattern_dict.values()), columns = ['Pattern', 'Count']).sort_values('Count', ascending=False)"
      ],
      "execution_count": null,
      "outputs": []
    },
    {
      "cell_type": "code",
      "metadata": {
        "id": "fjdozyohA0I-"
      },
      "source": [
        "for pattern in list(pattern_count_df[pattern_count_df['Count'] < 5]['Pattern']):\n",
        "  print(pattern)\n",
        "  temp = []\n",
        "  for i in list(desc_100['Dep tags']):\n",
        "    for sublist in i:\n",
        "      if sublist[1] == pattern:\n",
        "        temp.append(sublist[0])\n",
        "  print(temp)\n",
        "  print('---')"
      ],
      "execution_count": null,
      "outputs": []
    },
    {
      "cell_type": "code",
      "metadata": {
        "id": "1YGlBB8pZwYL"
      },
      "source": [
        "def phrases_extraction(depend_list, patterns_list):\n",
        "  phrases = []\n",
        "  word_list = depend_list[:][0]\n",
        "  pat_list = depend_list[:][1]\n",
        "  #unigrams\n",
        "  for pattern in pat_list:\n",
        "    if val in patterns_list:\n",
        "      phrases.append(key)\n",
        "  #bigrams\n",
        "  #for i in range(len(val_list) - 1):\n",
        "  #  res = ' '.join([val_list[i], val_list[i+1]])\n",
        "  #  if res in patterns:\n",
        "  #    phrases.append(' '.join([key_list[i], key_list[i+1]]))\n",
        "  return phrases"
      ],
      "execution_count": null,
      "outputs": []
    },
    {
      "cell_type": "code",
      "metadata": {
        "id": "_LCXl-XjyRDv"
      },
      "source": [
        "#function to get keywords given a description\n",
        "def get_keywords(description, patterns_to_look_for):\n",
        "  desc = description.replace(',', ' ').replace('-', ' ').replace('/', ' ')\n",
        "  doc = nlp(desc.lower())\n",
        "  dep_dict = {}\n",
        "  for sent in doc.sentences:\n",
        "    for word in sent.words:\n",
        "      dep_dict[word.text] = word.deprel\n",
        "\n",
        "  phrases = []\n",
        "  key_list = list(dep_dict.keys()) #words\n",
        "  val_list = list(dep_dict.values()) #dependency tags aka patterns\n",
        "  #Till here, we got each word with its dependency tag\n",
        "  #Now we look for all possible patterns i.e. uni/bi/tri/quadgrams\n",
        "  #unigrams\n",
        "  for i in range(len(val_list)):\n",
        "    if val_list[i] in patterns_to_look_for:\n",
        "      phrases.append(key_list[i])\n",
        "  #bigrams\n",
        "  for i in range(len(val_list) - 1):\n",
        "    res = ' '.join([val_list[i], val_list[i+1]])\n",
        "    if res in patterns_to_look_for:\n",
        "      phrases.append(' '.join([key_list[i], key_list[i+1]]))\n",
        "  #trigrams\n",
        "  for i in range(len(val_list) - 2):\n",
        "    res = ' '.join([val_list[i], val_list[i+1], val_list[i+2]])\n",
        "    if res in patterns_to_look_for:\n",
        "      phrases.append(' '.join([key_list[i], key_list[i+1], key_list[i+2]]))\n",
        "  #quadgrams\n",
        "  for i in range(len(val_list) - 3):\n",
        "    res = ' '.join([val_list[i], val_list[i+1], val_list[i+2], val_list[i+3]])\n",
        "    if res in patterns_to_look_for:\n",
        "      phrases.append(' '.join([key_list[i], key_list[i+1], key_list[i+2], key_list[i+3]]))\n",
        "  return phrases"
      ],
      "execution_count": null,
      "outputs": []
    },
    {
      "cell_type": "code",
      "metadata": {
        "colab": {
          "base_uri": "https://localhost:8080/",
          "height": 204
        },
        "id": "dJNeEp5HPHhD",
        "outputId": "97d843f4-2cba-424d-f0af-eca6bda5f1fe"
      },
      "source": [
        "topshop_df.head()"
      ],
      "execution_count": null,
      "outputs": [
        {
          "output_type": "execute_result",
          "data": {
            "text/html": [
              "<div>\n",
              "<style scoped>\n",
              "    .dataframe tbody tr th:only-of-type {\n",
              "        vertical-align: middle;\n",
              "    }\n",
              "\n",
              "    .dataframe tbody tr th {\n",
              "        vertical-align: top;\n",
              "    }\n",
              "\n",
              "    .dataframe thead th {\n",
              "        text-align: right;\n",
              "    }\n",
              "</style>\n",
              "<table border=\"1\" class=\"dataframe\">\n",
              "  <thead>\n",
              "    <tr style=\"text-align: right;\">\n",
              "      <th></th>\n",
              "      <th>Name</th>\n",
              "      <th>Price (£)</th>\n",
              "      <th>Description</th>\n",
              "      <th>Colour</th>\n",
              "    </tr>\n",
              "  </thead>\n",
              "  <tbody>\n",
              "    <tr>\n",
              "      <th>0</th>\n",
              "      <td>Green Sleeve Detail Midi Dress</td>\n",
              "      <td>25.00</td>\n",
              "      <td>Love your look, whatever season with this midi...</td>\n",
              "      <td>GREEN</td>\n",
              "    </tr>\n",
              "    <tr>\n",
              "      <th>1</th>\n",
              "      <td>IDOL Ruffle Patchwork Print Midi Dress</td>\n",
              "      <td>25.00</td>\n",
              "      <td>Layer up and dress up at the same time with ou...</td>\n",
              "      <td>MULTI</td>\n",
              "    </tr>\n",
              "    <tr>\n",
              "      <th>2</th>\n",
              "      <td>Grey Marl Roll Neck Oversized Knitted Jumper D...</td>\n",
              "      <td>35.99</td>\n",
              "      <td>If you are looking to look both cosy and cute ...</td>\n",
              "      <td>GREY MARL</td>\n",
              "    </tr>\n",
              "    <tr>\n",
              "      <th>3</th>\n",
              "      <td>Ivory Crew Neck Knitted Mini Dress</td>\n",
              "      <td>35.99</td>\n",
              "      <td>Introducing Topshop Idol, our most iconic coll...</td>\n",
              "      <td>IVORY</td>\n",
              "    </tr>\n",
              "    <tr>\n",
              "      <th>4</th>\n",
              "      <td>IDOL Spot Ruffle Maxi Dress</td>\n",
              "      <td>25.00</td>\n",
              "      <td>This grey cosy ribbed long sleeve midi dress w...</td>\n",
              "      <td>NAVY BLUE</td>\n",
              "    </tr>\n",
              "  </tbody>\n",
              "</table>\n",
              "</div>"
            ],
            "text/plain": [
              "                                                Name  ...     Colour\n",
              "0                     Green Sleeve Detail Midi Dress  ...      GREEN\n",
              "1             IDOL Ruffle Patchwork Print Midi Dress  ...      MULTI\n",
              "2  Grey Marl Roll Neck Oversized Knitted Jumper D...  ...  GREY MARL\n",
              "3                 Ivory Crew Neck Knitted Mini Dress  ...      IVORY\n",
              "4                        IDOL Spot Ruffle Maxi Dress  ...  NAVY BLUE\n",
              "\n",
              "[5 rows x 4 columns]"
            ]
          },
          "metadata": {
            "tags": []
          },
          "execution_count": 20
        }
      ]
    },
    {
      "cell_type": "code",
      "metadata": {
        "id": "Hx0Erm6-OS7N"
      },
      "source": [
        "topshop_sample = topshop_df.sample(30)\n",
        "patterns = list(pattern_count_df[pattern_count_df['Count'] >= 5]['Pattern'])\n",
        "topshop_sample['Keywords'] = topshop_sample.apply(lambda row : get_keywords(row['Description'], patterns), axis = 1)\n",
        "topshop_sample.head()"
      ],
      "execution_count": null,
      "outputs": []
    },
    {
      "cell_type": "code",
      "metadata": {
        "colab": {
          "base_uri": "https://localhost:8080/",
          "height": 238
        },
        "id": "NTERaDb5PiM6",
        "outputId": "bec8a568-738c-48a8-c72a-5b42ef807f3c"
      },
      "source": [
        "attr_seg = []\n",
        "for keyword_list in list(topshop_sample['Keywords']):\n",
        "  temp = []\n",
        "  for keyword in keyword_list:\n",
        "    temp.append([kmeans_predict(keyword, kmeans), keyword])\n",
        "  attr_seg.append(temp)\n",
        "\n",
        "topshop_sample['Attr Segmented'] = attr_seg\n",
        "topshop_sample = topshop_sample[['Description', 'Keywords', 'Attr Segmented']]\n",
        "topshop_sample.head()"
      ],
      "execution_count": null,
      "outputs": [
        {
          "output_type": "execute_result",
          "data": {
            "text/html": [
              "<div>\n",
              "<style scoped>\n",
              "    .dataframe tbody tr th:only-of-type {\n",
              "        vertical-align: middle;\n",
              "    }\n",
              "\n",
              "    .dataframe tbody tr th {\n",
              "        vertical-align: top;\n",
              "    }\n",
              "\n",
              "    .dataframe thead th {\n",
              "        text-align: right;\n",
              "    }\n",
              "</style>\n",
              "<table border=\"1\" class=\"dataframe\">\n",
              "  <thead>\n",
              "    <tr style=\"text-align: right;\">\n",
              "      <th></th>\n",
              "      <th>Description</th>\n",
              "      <th>Keywords</th>\n",
              "      <th>Attr Segmented</th>\n",
              "    </tr>\n",
              "  </thead>\n",
              "  <tbody>\n",
              "    <tr>\n",
              "      <th>250</th>\n",
              "      <td>Our black and white all over spot full sleeve ...</td>\n",
              "      <td>[black, white, all, spot, full, sleeve, plunge...</td>\n",
              "      <td>[[Colour, black], [Colour, white], [Season, al...</td>\n",
              "    </tr>\n",
              "    <tr>\n",
              "      <th>268</th>\n",
              "      <td>If you love your ditsy design to make a statem...</td>\n",
              "      <td>[you, ditsy, design, statement, then, stylish,...</td>\n",
              "      <td>[[Season, you], [Collar-line, ditsy], [Style, ...</td>\n",
              "    </tr>\n",
              "    <tr>\n",
              "      <th>432</th>\n",
              "      <td>Embrace romantic inspired ensembles with this ...</td>\n",
              "      <td>[embrace, romantic, inspired, ensembles, strik...</td>\n",
              "      <td>[[Fit, embrace], [Style, romantic], [Style, in...</td>\n",
              "    </tr>\n",
              "    <tr>\n",
              "      <th>352</th>\n",
              "      <td>Our black ponte bandeau dress with organza fri...</td>\n",
              "      <td>[black, ponte, bandeau, dress, organza, frill,...</td>\n",
              "      <td>[[Colour, black], [Season, ponte], [Sleeve Sty...</td>\n",
              "    </tr>\n",
              "    <tr>\n",
              "      <th>416</th>\n",
              "      <td>Get inspired by the festival world with our fa...</td>\n",
              "      <td>[inspired, festival, world, fashionable, tpu, ...</td>\n",
              "      <td>[[Style, inspired], [Season, festival], [Seaso...</td>\n",
              "    </tr>\n",
              "  </tbody>\n",
              "</table>\n",
              "</div>"
            ],
            "text/plain": [
              "                                           Description  ...                                     Attr Segmented\n",
              "250  Our black and white all over spot full sleeve ...  ...  [[Colour, black], [Colour, white], [Season, al...\n",
              "268  If you love your ditsy design to make a statem...  ...  [[Season, you], [Collar-line, ditsy], [Style, ...\n",
              "432  Embrace romantic inspired ensembles with this ...  ...  [[Fit, embrace], [Style, romantic], [Style, in...\n",
              "352  Our black ponte bandeau dress with organza fri...  ...  [[Colour, black], [Season, ponte], [Sleeve Sty...\n",
              "416  Get inspired by the festival world with our fa...  ...  [[Style, inspired], [Season, festival], [Seaso...\n",
              "\n",
              "[5 rows x 3 columns]"
            ]
          },
          "metadata": {
            "tags": []
          },
          "execution_count": 33
        }
      ]
    },
    {
      "cell_type": "code",
      "metadata": {
        "id": "DWa1LN92YGql"
      },
      "source": [
        "topshop_sample.to_excel('30 samples attr segmented.xlsx', index = False)"
      ],
      "execution_count": null,
      "outputs": []
    },
    {
      "cell_type": "markdown",
      "metadata": {
        "id": "Bb6zCqBIjWXi"
      },
      "source": [
        "# K means for clustering attributevalues\n",
        "\n",
        "Idea - to cluster attribute values and then assign each keyword extracted to a cluster belonging to an attribute "
      ]
    },
    {
      "cell_type": "code",
      "metadata": {
        "id": "kEVEn0C2jkC0"
      },
      "source": [
        "attr_df = pd.read_excel('/content/Women Dresses Web Scraped Data.xlsx', sheet_name = 3)\n",
        "attr_df = attr_df[['Attributes List', 'Alternate attribute names', 'Possible Attribute Values']]\n",
        "\n",
        "attributenames = [i for i in attr_df['Attributes List'] if i and type(i) == str]\n",
        "attributenames = [i for i in attributenames if i not in ['Name', 'Price', 'Product Description', 'Decoration', 'With Belt', 'Weight', 'Package'] ]\n",
        "\n",
        "name_val_dict = {}\n",
        "for name in attributenames:\n",
        "  temp = attr_df[attr_df['Attributes List'] == name]\n",
        "  vals = [i for i in temp['Possible Attribute Values']][0]\n",
        "  all_vals = vals.split(', ')\n",
        "  name_val_dict[name] = list(set([i.lower() for i in all_vals]))\n",
        "name_val_dict['Size'] = list(set([j for i in name_val_dict['Size'] for j in i.split('/')]))"
      ],
      "execution_count": null,
      "outputs": []
    },
    {
      "cell_type": "code",
      "metadata": {
        "id": "lrNSI46TlWON"
      },
      "source": [
        "temp_col1 = []\n",
        "temp_col2 = []\n",
        "for key, val in name_val_dict.items():\n",
        "  for val2 in val:\n",
        "    temp_col1.append(key)\n",
        "    temp_col2.append(val2)\n",
        "attr_df_proper = pd.DataFrame(zip(temp_col1, temp_col2), columns = ['Attr name', 'Attr value'])\n",
        "print(attr_df_proper.shape)"
      ],
      "execution_count": null,
      "outputs": []
    },
    {
      "cell_type": "code",
      "metadata": {
        "id": "RD3azU8xk4_K"
      },
      "source": [
        "#20 clusters for 20 attributes\n",
        "import tensorflow_hub as hub\n",
        "#embed = hub.load(\"https://tfhub.dev/google/universal-sentence-encoder/4\")\n",
        "USE_embed = hub.KerasLayer(\"https://tfhub.dev/google/universal-sentence-encoder/4\", trainable=False, name='USE_embedding')"
      ],
      "execution_count": null,
      "outputs": []
    },
    {
      "cell_type": "code",
      "metadata": {
        "id": "RkE4-iXaw45M"
      },
      "source": [
        "from sklearn.cluster import KMeans\n",
        "train_embeddings = USE_embed(list(attr_df_proper['Attr name']))\n",
        "kmeans = KMeans(n_clusters=20, random_state=0).fit(train_embeddings)"
      ],
      "execution_count": null,
      "outputs": []
    },
    {
      "cell_type": "code",
      "metadata": {
        "id": "KWsVvaqCoKp4"
      },
      "source": [
        "attr_df_proper.loc[:,'Clusters'] = None\n",
        "attr_df_proper.loc[:,'Clusters'] = kmeans.labels_\n",
        "pd.set_option('display.max_rows', 1600)"
      ],
      "execution_count": null,
      "outputs": []
    },
    {
      "cell_type": "code",
      "metadata": {
        "id": "CkoL3_kg6oKO"
      },
      "source": [
        "cluster_codes = attr_df_proper[['Attr name', 'Clusters']].drop_duplicates()\n",
        "cluster_dict = dict(zip(cluster_codes['Clusters'], cluster_codes['Attr name']))"
      ],
      "execution_count": null,
      "outputs": []
    },
    {
      "cell_type": "code",
      "metadata": {
        "id": "MuILkz1K5JSh"
      },
      "source": [
        "def kmeans_predict(text_input, fitted_kmeans):\n",
        "  tmp_embd = USE_embed([text_input])\n",
        "  return cluster_dict[fitted_kmeans.predict(tmp_embd)[0]]"
      ],
      "execution_count": null,
      "outputs": []
    },
    {
      "cell_type": "code",
      "metadata": {
        "id": "rKkuD7sk7lUg"
      },
      "source": [
        "#call kmeans predict on random 100 keywords and see output\n",
        "from random import sample \n",
        "\n",
        "dep_tags_list = list(set([j[0] for i in list(desc_100['Dep tags']) for j in i]))\n",
        "print(len(dep_tags_list))\n",
        "sample_keywords = sample(dep_tags_list, 100)"
      ],
      "execution_count": null,
      "outputs": []
    },
    {
      "cell_type": "code",
      "metadata": {
        "id": "uyKfysxfkFGP"
      },
      "source": [
        "predictions = []\n",
        "for keyword in sample_keywords:\n",
        "  predictions.append(kmeans_predict(keyword, kmeans))"
      ],
      "execution_count": null,
      "outputs": []
    },
    {
      "cell_type": "code",
      "metadata": {
        "colab": {
          "base_uri": "https://localhost:8080/",
          "height": 359
        },
        "id": "FpDZFoNXlBe-",
        "outputId": "0458fd45-ceff-4ca2-b58e-cfa6564f5946"
      },
      "source": [
        "sample_preds = pd.DataFrame(zip(sample_keywords, predictions), columns = ['Keyword/key phrase', 'Predicted attr name'])\n",
        "sample_preds.head(10)"
      ],
      "execution_count": null,
      "outputs": [
        {
          "output_type": "execute_result",
          "data": {
            "text/html": [
              "<div>\n",
              "<style scoped>\n",
              "    .dataframe tbody tr th:only-of-type {\n",
              "        vertical-align: middle;\n",
              "    }\n",
              "\n",
              "    .dataframe tbody tr th {\n",
              "        vertical-align: top;\n",
              "    }\n",
              "\n",
              "    .dataframe thead th {\n",
              "        text-align: right;\n",
              "    }\n",
              "</style>\n",
              "<table border=\"1\" class=\"dataframe\">\n",
              "  <thead>\n",
              "    <tr style=\"text-align: right;\">\n",
              "      <th></th>\n",
              "      <th>Keyword/key phrase</th>\n",
              "      <th>Predicted attr name</th>\n",
              "    </tr>\n",
              "  </thead>\n",
              "  <tbody>\n",
              "    <tr>\n",
              "      <th>0</th>\n",
              "      <td>front plunges down</td>\n",
              "      <td>Sleeve Style</td>\n",
              "    </tr>\n",
              "    <tr>\n",
              "      <th>1</th>\n",
              "      <td>off duty days</td>\n",
              "      <td>Season</td>\n",
              "    </tr>\n",
              "    <tr>\n",
              "      <th>2</th>\n",
              "      <td>ethereal</td>\n",
              "      <td>Collar-line</td>\n",
              "    </tr>\n",
              "    <tr>\n",
              "      <th>3</th>\n",
              "      <td>flirty</td>\n",
              "      <td>Style</td>\n",
              "    </tr>\n",
              "    <tr>\n",
              "      <th>4</th>\n",
              "      <td>everyday</td>\n",
              "      <td>Occasion</td>\n",
              "    </tr>\n",
              "    <tr>\n",
              "      <th>5</th>\n",
              "      <td>lightweight</td>\n",
              "      <td>Material</td>\n",
              "    </tr>\n",
              "    <tr>\n",
              "      <th>6</th>\n",
              "      <td>warm weather</td>\n",
              "      <td>Season</td>\n",
              "    </tr>\n",
              "    <tr>\n",
              "      <th>7</th>\n",
              "      <td>pretty</td>\n",
              "      <td>Style</td>\n",
              "    </tr>\n",
              "    <tr>\n",
              "      <th>8</th>\n",
              "      <td>shirt</td>\n",
              "      <td>Sleeve Style</td>\n",
              "    </tr>\n",
              "    <tr>\n",
              "      <th>9</th>\n",
              "      <td>breezy</td>\n",
              "      <td>Style</td>\n",
              "    </tr>\n",
              "  </tbody>\n",
              "</table>\n",
              "</div>"
            ],
            "text/plain": [
              "   Keyword/key phrase Predicted attr name\n",
              "0  front plunges down        Sleeve Style\n",
              "1       off duty days              Season\n",
              "2            ethereal         Collar-line\n",
              "3              flirty               Style\n",
              "4            everyday            Occasion\n",
              "5         lightweight            Material\n",
              "6        warm weather              Season\n",
              "7              pretty               Style\n",
              "8               shirt        Sleeve Style\n",
              "9              breezy               Style"
            ]
          },
          "metadata": {
            "tags": []
          },
          "execution_count": 19
        }
      ]
    },
    {
      "cell_type": "code",
      "metadata": {
        "id": "xYNdkrZ1k7BQ"
      },
      "source": [
        "sample_preds.to_csv('Sample 100 keywords predicted attribute.csv', index = False)"
      ],
      "execution_count": null,
      "outputs": []
    },
    {
      "cell_type": "markdown",
      "metadata": {
        "id": "hgnC_btHqzDS"
      },
      "source": [
        "## Data cleaning\n"
      ]
    },
    {
      "cell_type": "code",
      "metadata": {
        "colab": {
          "base_uri": "https://localhost:8080/",
          "height": 598
        },
        "id": "QEYNQR9p50W9",
        "outputId": "943297c6-95e3-42a8-d847-04d6fd4b98b5"
      },
      "source": [
        "import pandas as pd\n",
        "import numpy as np\n",
        "\n",
        "df = pd.read_excel('/content/online coupons.xlsx')\n",
        "df.head()"
      ],
      "execution_count": null,
      "outputs": [
        {
          "output_type": "execute_result",
          "data": {
            "text/html": [
              "<div>\n",
              "<style scoped>\n",
              "    .dataframe tbody tr th:only-of-type {\n",
              "        vertical-align: middle;\n",
              "    }\n",
              "\n",
              "    .dataframe tbody tr th {\n",
              "        vertical-align: top;\n",
              "    }\n",
              "\n",
              "    .dataframe thead th {\n",
              "        text-align: right;\n",
              "    }\n",
              "</style>\n",
              "<table border=\"1\" class=\"dataframe\">\n",
              "  <thead>\n",
              "    <tr style=\"text-align: right;\">\n",
              "      <th></th>\n",
              "      <th>couponId</th>\n",
              "      <th>title</th>\n",
              "      <th>description</th>\n",
              "      <th>promoCode</th>\n",
              "      <th>url</th>\n",
              "      <th>startDate</th>\n",
              "      <th>endDate</th>\n",
              "      <th>merchantName</th>\n",
              "      <th>merchantLogo</th>\n",
              "      <th>merchantDomain</th>\n",
              "      <th>merchantGroupId</th>\n",
              "      <th>savings</th>\n",
              "      <th>category</th>\n",
              "      <th>rating</th>\n",
              "      <th>primaryCountry</th>\n",
              "      <th>shipToCountries</th>\n",
              "    </tr>\n",
              "  </thead>\n",
              "  <tbody>\n",
              "    <tr>\n",
              "      <th>0</th>\n",
              "      <td>5c5adf53cc87cb2eeb6f28eb6ce05c8e</td>\n",
              "      <td>Worldwide Free Shipping on any order.</td>\n",
              "      <td>Worldwide Free Shipping on any order.</td>\n",
              "      <td>NaN</td>\n",
              "      <td>https://redirect.viglink.com?key=37b874eecfbb3...</td>\n",
              "      <td>2012-01-30</td>\n",
              "      <td>2025-12-31</td>\n",
              "      <td>Tmart.com</td>\n",
              "      <td>https://images.viglink.com/merchant/logo/offic...</td>\n",
              "      <td>tmart.com</td>\n",
              "      <td>263</td>\n",
              "      <td>NaN</td>\n",
              "      <td>NaN</td>\n",
              "      <td>NaN</td>\n",
              "      <td>NaN</td>\n",
              "      <td>NaN</td>\n",
              "    </tr>\n",
              "    <tr>\n",
              "      <th>1</th>\n",
              "      <td>d16eda60d3d6cee1e2321fa46bf702bd</td>\n",
              "      <td>Worldwide Free Shipping on any order.</td>\n",
              "      <td>Worldwide Free Shipping on any order.</td>\n",
              "      <td>NaN</td>\n",
              "      <td>https://redirect.viglink.com?key=37b874eecfbb3...</td>\n",
              "      <td>2012-01-30</td>\n",
              "      <td>2025-12-31</td>\n",
              "      <td>TMART LIMITED</td>\n",
              "      <td>https://images.viglink.com/merchant/logo/offic...</td>\n",
              "      <td>tmart.com</td>\n",
              "      <td>263</td>\n",
              "      <td>NaN</td>\n",
              "      <td>NaN</td>\n",
              "      <td>NaN</td>\n",
              "      <td>NaN</td>\n",
              "      <td>NaN</td>\n",
              "    </tr>\n",
              "    <tr>\n",
              "      <th>2</th>\n",
              "      <td>94de416dddf6e1c94243980db008a262</td>\n",
              "      <td>Sugar Free Hydration Gnarly Boost Was: $20.95 ...</td>\n",
              "      <td>Sugar Free Hydration Gnarly Boost Was: $20.95 ...</td>\n",
              "      <td>NaN</td>\n",
              "      <td>https://redirect.viglink.com?key=37b874eecfbb3...</td>\n",
              "      <td>2014-01-30</td>\n",
              "      <td>2049-12-31</td>\n",
              "      <td>Gnarly</td>\n",
              "      <td>https://images.viglink.com/merchant/logo/offic...</td>\n",
              "      <td>gognarly.com</td>\n",
              "      <td>38728</td>\n",
              "      <td>NaN</td>\n",
              "      <td>NaN</td>\n",
              "      <td>NaN</td>\n",
              "      <td>NaN</td>\n",
              "      <td>NaN</td>\n",
              "    </tr>\n",
              "    <tr>\n",
              "      <th>3</th>\n",
              "      <td>452907407902c59a22c85d69c39e3fc2</td>\n",
              "      <td>2019 Atroz 2 in stock</td>\n",
              "      <td>2019 Full Suspension Atroz 2 Now In Stock! Plu...</td>\n",
              "      <td>NaN</td>\n",
              "      <td>https://redirect.viglink.com?key=37b874eecfbb3...</td>\n",
              "      <td>2018-01-31</td>\n",
              "      <td>2037-12-31</td>\n",
              "      <td>diamondback</td>\n",
              "      <td>https://images.viglink.com/merchant/logo/offic...</td>\n",
              "      <td>diamondback.com</td>\n",
              "      <td>101230</td>\n",
              "      <td>NaN</td>\n",
              "      <td>NaN</td>\n",
              "      <td>NaN</td>\n",
              "      <td>NaN</td>\n",
              "      <td>NaN</td>\n",
              "    </tr>\n",
              "    <tr>\n",
              "      <th>4</th>\n",
              "      <td>387c250935f155e974ff715f2dfdd0ac</td>\n",
              "      <td>Free Shipping On Orders Over $49!</td>\n",
              "      <td>Free Shipping On Orders Over $49! at Gander Ou...</td>\n",
              "      <td>NaN</td>\n",
              "      <td>https://redirect.viglink.com?key=37b874eecfbb3...</td>\n",
              "      <td>2018-01-31</td>\n",
              "      <td>2023-01-04</td>\n",
              "      <td>Gander Mountain</td>\n",
              "      <td>https://images.viglink.com/merchant/logo/offic...</td>\n",
              "      <td>ganderoutdoors.com</td>\n",
              "      <td>37069</td>\n",
              "      <td>NaN</td>\n",
              "      <td>NaN</td>\n",
              "      <td>NaN</td>\n",
              "      <td>NaN</td>\n",
              "      <td>NaN</td>\n",
              "    </tr>\n",
              "  </tbody>\n",
              "</table>\n",
              "</div>"
            ],
            "text/plain": [
              "                           couponId  ... shipToCountries\n",
              "0  5c5adf53cc87cb2eeb6f28eb6ce05c8e  ...             NaN\n",
              "1  d16eda60d3d6cee1e2321fa46bf702bd  ...             NaN\n",
              "2  94de416dddf6e1c94243980db008a262  ...             NaN\n",
              "3  452907407902c59a22c85d69c39e3fc2  ...             NaN\n",
              "4  387c250935f155e974ff715f2dfdd0ac  ...             NaN\n",
              "\n",
              "[5 rows x 16 columns]"
            ]
          },
          "metadata": {
            "tags": []
          },
          "execution_count": 1
        }
      ]
    },
    {
      "cell_type": "code",
      "metadata": {
        "colab": {
          "base_uri": "https://localhost:8080/"
        },
        "id": "cjedn7DTs3dB",
        "outputId": "5d9722e6-2298-4537-a52d-25e059211a51"
      },
      "source": [
        "df.shape"
      ],
      "execution_count": null,
      "outputs": [
        {
          "output_type": "execute_result",
          "data": {
            "text/plain": [
              "(92985, 16)"
            ]
          },
          "metadata": {
            "tags": []
          },
          "execution_count": 2
        }
      ]
    },
    {
      "cell_type": "code",
      "metadata": {
        "id": "T21NSAdDxFBM"
      },
      "source": [
        "non_permissible = ['Pork', 'Alcohol', 'Gambling', 'Bars', 'Nightclubs', 'Casinos', 'Waterparks', 'Massages', 'Waxing',\n",
        "                   'Haircut and beauty saloons','Arms and ammunition','Pornography']\n",
        "all_words = [j for i in non_permissible for j in i.lower().split() if j not in ['and', 'or', 'and/or']] + \\\n",
        " ['porn', 'spa', 'spas', 'massage', 'bar', 'nightclub', 'gamble', 'liquor', 'casino', 'waterpark', 'wax', 'gun', 'guns', 'shooting', 'rifle', 'pistol'] + \\\n",
        " ['wine', 'whiskey', 'beer', 'knife', 'CBD', '*VPN*', 'vape']\n",
        "all_coupons = []\n",
        "for word in all_words:\n",
        "  #print('For the word:',word)\n",
        "  for desc in [i for i in list(sovrn['description']) if type(i) == str]:\n",
        "    if word.lower() in desc.lower().split():\n",
        "      #print(desc)\n",
        "      all_coupons.append(desc)\n",
        "  #print('')"
      ],
      "execution_count": null,
      "outputs": []
    },
    {
      "cell_type": "code",
      "metadata": {
        "id": "WpiavnyZP9DZ",
        "colab": {
          "base_uri": "https://localhost:8080/"
        },
        "outputId": "f314a29c-ecb9-4b34-d288-fea93b86f2ce"
      },
      "source": [
        "finance_terms = []\n",
        "with open('Finance terms.txt', 'r') as f:\n",
        "  lines = f.readlines()\n",
        "  for line in lines:\n",
        "    temp = line.split(', ')\n",
        "    for i in temp:\n",
        "      finance_terms.append(i.lower())\n",
        "\n",
        "finance_terms = [i.replace('\\n', '') for i in finance_terms]\n",
        "finance_all = list(set([j for i in finance_terms for j in i.split()]))\n",
        "print(len(finance_terms))\n",
        "print(len(finance_all))\n",
        "\n",
        "finance_dict = {}\n",
        "for word in finance_all:\n",
        "  val = []\n",
        "  #print('For the word ',word)\n",
        "  for desc in [i for i in list(sovrn['description']) if type(i) == str]:\n",
        "    if word in desc.split():\n",
        "      val.append(desc)\n",
        "  finance_dict[word] = val\n",
        "\n",
        "finance_df = pd.DataFrame(zip(finance_dict.keys(), finance_dict.values()), columns = ['Word', 'Descriptions containing word'])\n",
        "finance_df.head()\n",
        "\n",
        "finance_df2 = pd.read_excel('/content/finance terms filter.xlsx')\n",
        "print(finance_df2.shape)\n",
        "filtered = list(finance_df2[finance_df2['Boolcol'] != 1.0]['Word'])\n",
        "print(len(filtered))\n",
        "filtered_df = finance_df[~finance_df['Word'].isin(filtered)]"
      ],
      "execution_count": null,
      "outputs": [
        {
          "output_type": "stream",
          "text": [
            "302\n",
            "322\n",
            "(323, 3)\n",
            "243\n"
          ],
          "name": "stdout"
        }
      ]
    },
    {
      "cell_type": "code",
      "metadata": {
        "id": "nHDVwoOJRhJ6"
      },
      "source": [
        "for i in list(filtered_df['Descriptions containing word']):\n",
        "  for desc in i:\n",
        "    all_coupons.append(desc)"
      ],
      "execution_count": null,
      "outputs": []
    },
    {
      "cell_type": "code",
      "metadata": {
        "colab": {
          "base_uri": "https://localhost:8080/"
        },
        "id": "-sAgAyt4TWvo",
        "outputId": "7177a9ab-3b51-4927-b0e9-f5712b4adb5d"
      },
      "source": [
        "len(all_coupons)"
      ],
      "execution_count": null,
      "outputs": [
        {
          "output_type": "execute_result",
          "data": {
            "text/plain": [
              "1158"
            ]
          },
          "metadata": {
            "tags": []
          },
          "execution_count": 7
        }
      ]
    },
    {
      "cell_type": "code",
      "metadata": {
        "colab": {
          "base_uri": "https://localhost:8080/"
        },
        "id": "xLMQ4z4JhafN",
        "outputId": "2a0cda09-d103-4ab1-b841-a42bcefd5853"
      },
      "source": [
        "df_filtered = df[~df['description'].isin(all_coupons)]\n",
        "print(df_filtered.shape)\n",
        "merch_to_rem = ['Axos Bank', 'valiantvapes.com']\n",
        "df_filtered = df_filtered[~df_filtered['merchantName'].isin(merch_to_rem)]\n",
        "print(df_filtered.shape)"
      ],
      "execution_count": null,
      "outputs": [
        {
          "output_type": "stream",
          "text": [
            "(91854, 16)\n",
            "(91822, 16)\n"
          ],
          "name": "stdout"
        }
      ]
    },
    {
      "cell_type": "code",
      "metadata": {
        "id": "XdErQcQGhluH"
      },
      "source": [
        "df_filtered.to_excel(\"Filtered coupons.xlsx\")"
      ],
      "execution_count": null,
      "outputs": []
    },
    {
      "cell_type": "code",
      "metadata": {
        "id": "oiFovo9chxh4"
      },
      "source": [
        ""
      ],
      "execution_count": null,
      "outputs": []
    }
  ]
}